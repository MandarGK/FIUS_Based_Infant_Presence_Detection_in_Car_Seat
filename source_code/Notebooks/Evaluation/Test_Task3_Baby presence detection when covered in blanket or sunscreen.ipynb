{
 "cells": [
  {
   "cell_type": "code",
   "execution_count": 75,
   "id": "3b4ff595-339c-4f5f-952f-8f806968d460",
   "metadata": {},
   "outputs": [
    {
     "data": {
      "text/plain": [
       "'Test_Task3_Baby presence detection when covered in blanket or sunscreen'"
      ]
     },
     "execution_count": 75,
     "metadata": {},
     "output_type": "execute_result"
    }
   ],
   "source": [
    "'Test_Task3_Baby presence detection when covered in blanket or sunscreen'"
   ]
  },
  {
   "cell_type": "code",
   "execution_count": 77,
   "id": "cfd3de8d-52f1-413a-95bb-abb3ba131186",
   "metadata": {},
   "outputs": [
    {
     "data": {
      "text/plain": [
       "4474"
      ]
     },
     "execution_count": 77,
     "metadata": {},
     "output_type": "execute_result"
    }
   ],
   "source": [
    "import gc\n",
    "gc.collect()"
   ]
  },
  {
   "cell_type": "code",
   "execution_count": 79,
   "id": "d04183b9-225c-4a34-add0-977a8337a1ed",
   "metadata": {},
   "outputs": [],
   "source": [
    "%reset -f"
   ]
  },
  {
   "cell_type": "code",
   "execution_count": 81,
   "id": "f2e429e5",
   "metadata": {},
   "outputs": [],
   "source": [
    "import numpy as np\n",
    "import pandas as pd\n",
    "import matplotlib.pyplot as plt\n",
    "import seaborn as sns"
   ]
  },
  {
   "cell_type": "markdown",
   "id": "b6bbf181",
   "metadata": {},
   "source": [
    "# Data Preprocessing"
   ]
  },
  {
   "cell_type": "markdown",
   "id": "87f286b0",
   "metadata": {},
   "source": [
    "# Test measurements"
   ]
  },
  {
   "cell_type": "code",
   "execution_count": 85,
   "id": "ac4ff986",
   "metadata": {},
   "outputs": [
    {
     "data": {
      "text/html": [
       "<div>\n",
       "<style scoped>\n",
       "    .dataframe tbody tr th:only-of-type {\n",
       "        vertical-align: middle;\n",
       "    }\n",
       "\n",
       "    .dataframe tbody tr th {\n",
       "        vertical-align: top;\n",
       "    }\n",
       "\n",
       "    .dataframe thead th {\n",
       "        text-align: right;\n",
       "    }\n",
       "</style>\n",
       "<table border=\"1\" class=\"dataframe\">\n",
       "  <thead>\n",
       "    <tr style=\"text-align: right;\">\n",
       "      <th></th>\n",
       "      <th>Frequency</th>\n",
       "      <th>FFT Magnitude</th>\n",
       "      <th>Phase</th>\n",
       "      <th>Infant_Presence</th>\n",
       "    </tr>\n",
       "  </thead>\n",
       "  <tbody>\n",
       "    <tr>\n",
       "      <th>0</th>\n",
       "      <td>0.000000</td>\n",
       "      <td>46378.617052</td>\n",
       "      <td>0.000000</td>\n",
       "      <td>1.0</td>\n",
       "    </tr>\n",
       "    <tr>\n",
       "      <th>1</th>\n",
       "      <td>162.760417</td>\n",
       "      <td>22730.877556</td>\n",
       "      <td>-3.056708</td>\n",
       "      <td>1.0</td>\n",
       "    </tr>\n",
       "    <tr>\n",
       "      <th>2</th>\n",
       "      <td>325.520833</td>\n",
       "      <td>1213.847030</td>\n",
       "      <td>2.132477</td>\n",
       "      <td>1.0</td>\n",
       "    </tr>\n",
       "    <tr>\n",
       "      <th>3</th>\n",
       "      <td>488.281250</td>\n",
       "      <td>461.454602</td>\n",
       "      <td>2.500521</td>\n",
       "      <td>1.0</td>\n",
       "    </tr>\n",
       "    <tr>\n",
       "      <th>4</th>\n",
       "      <td>651.041667</td>\n",
       "      <td>788.183052</td>\n",
       "      <td>0.018248</td>\n",
       "      <td>1.0</td>\n",
       "    </tr>\n",
       "    <tr>\n",
       "      <th>...</th>\n",
       "      <td>...</td>\n",
       "      <td>...</td>\n",
       "      <td>...</td>\n",
       "      <td>...</td>\n",
       "    </tr>\n",
       "    <tr>\n",
       "      <th>11995</th>\n",
       "      <td>-813.802083</td>\n",
       "      <td>708.186621</td>\n",
       "      <td>1.826979</td>\n",
       "      <td>1.0</td>\n",
       "    </tr>\n",
       "    <tr>\n",
       "      <th>11996</th>\n",
       "      <td>-651.041667</td>\n",
       "      <td>788.183052</td>\n",
       "      <td>-0.018248</td>\n",
       "      <td>1.0</td>\n",
       "    </tr>\n",
       "    <tr>\n",
       "      <th>11997</th>\n",
       "      <td>-488.281250</td>\n",
       "      <td>461.454602</td>\n",
       "      <td>-2.500521</td>\n",
       "      <td>1.0</td>\n",
       "    </tr>\n",
       "    <tr>\n",
       "      <th>11998</th>\n",
       "      <td>-325.520833</td>\n",
       "      <td>1213.847030</td>\n",
       "      <td>-2.132477</td>\n",
       "      <td>1.0</td>\n",
       "    </tr>\n",
       "    <tr>\n",
       "      <th>11999</th>\n",
       "      <td>-162.760417</td>\n",
       "      <td>22730.877556</td>\n",
       "      <td>3.056708</td>\n",
       "      <td>1.0</td>\n",
       "    </tr>\n",
       "  </tbody>\n",
       "</table>\n",
       "<p>12000 rows × 4 columns</p>\n",
       "</div>"
      ],
      "text/plain": [
       "        Frequency  FFT Magnitude     Phase  Infant_Presence\n",
       "0        0.000000   46378.617052  0.000000              1.0\n",
       "1      162.760417   22730.877556 -3.056708              1.0\n",
       "2      325.520833    1213.847030  2.132477              1.0\n",
       "3      488.281250     461.454602  2.500521              1.0\n",
       "4      651.041667     788.183052  0.018248              1.0\n",
       "...           ...            ...       ...              ...\n",
       "11995 -813.802083     708.186621  1.826979              1.0\n",
       "11996 -651.041667     788.183052 -0.018248              1.0\n",
       "11997 -488.281250     461.454602 -2.500521              1.0\n",
       "11998 -325.520833    1213.847030 -2.132477              1.0\n",
       "11999 -162.760417   22730.877556  3.056708              1.0\n",
       "\n",
       "[12000 rows x 4 columns]"
      ]
     },
     "execution_count": 85,
     "metadata": {},
     "output_type": "execute_result"
    }
   ],
   "source": [
    "import numpy as np\n",
    "import pandas as pd\n",
    "# Replace 'your_array_file.npy' with the actual file path of your saved NumPy array\n",
    "file_path = 'BabyCovered_with_Blanket_or_Sunscreen_npy_array_Lowpassfiltered_label.npy'\n",
    "\n",
    "# Load the NumPy array from the file\n",
    "loaded_array = np.load(file_path, mmap_mode='r')\n",
    "\n",
    "# Now 'loaded_array' contains the NumPy array data that was saved in the file\n",
    "dataframe_testdata = pd.DataFrame(loaded_array,columns=['Frequency','FFT Magnitude','Phase','Infant_Presence'])\n",
    "#dataframe_testdata = dataframe_testdata.iloc[:2000]\n",
    "#dataframe_testdata = dataframe_testdata.sample(n=2000, random_state=42)\n",
    "dataframe_testdata"
   ]
  },
  {
   "cell_type": "code",
   "execution_count": 86,
   "id": "6b22ccbb-83dc-4442-b6b7-dbe8241f09fc",
   "metadata": {},
   "outputs": [
    {
     "data": {
      "text/plain": [
       "12000"
      ]
     },
     "execution_count": 86,
     "metadata": {},
     "output_type": "execute_result"
    }
   ],
   "source": [
    "num_rows_test = len(dataframe_testdata)\n",
    "num_rows_test"
   ]
  },
  {
   "cell_type": "code",
   "execution_count": 87,
   "id": "a8e0c324-c18b-4dc9-a2ad-5cf09f7716f3",
   "metadata": {},
   "outputs": [
    {
     "data": {
      "text/plain": [
       "array([46378.61705164, 22730.87755585,  1213.84702993, ...,\n",
       "         461.45460167,  1213.84702993, 22730.87755585], shape=(12000,))"
      ]
     },
     "execution_count": 87,
     "metadata": {},
     "output_type": "execute_result"
    }
   ],
   "source": [
    "fft_magnitudes_test = dataframe_testdata[\"FFT Magnitude\"].values  # Convert to NumPy array\n",
    "fft_magnitudes_test"
   ]
  },
  {
   "cell_type": "code",
   "execution_count": 91,
   "id": "f9039c0c-500a-4055-b9e0-c2218801394f",
   "metadata": {},
   "outputs": [
    {
     "data": {
      "text/plain": [
       "array([   0.        ,  162.76041667,  325.52083333, ..., -488.28125   ,\n",
       "       -325.52083333, -162.76041667], shape=(12000,))"
      ]
     },
     "execution_count": 91,
     "metadata": {},
     "output_type": "execute_result"
    }
   ],
   "source": [
    "fft_frequencies_test = dataframe_testdata[\"Frequency\"].values  # Convert to NumPy array\n",
    "fft_frequencies_test"
   ]
  },
  {
   "cell_type": "code",
   "execution_count": 93,
   "id": "f05209c2-b05a-42bc-bcc7-7103422ce8ae",
   "metadata": {},
   "outputs": [
    {
     "data": {
      "text/plain": [
       "array([ 0.        , -3.05670814,  2.13247747, ..., -2.50052126,\n",
       "       -2.13247747,  3.05670814], shape=(12000,))"
      ]
     },
     "execution_count": 93,
     "metadata": {},
     "output_type": "execute_result"
    }
   ],
   "source": [
    "fft_phase_test = dataframe_testdata[\"Phase\"].values  # Convert to NumPy array\n",
    "fft_phase_test"
   ]
  },
  {
   "cell_type": "code",
   "execution_count": 95,
   "id": "60698901-8842-4068-a367-cbc2a3f0f238",
   "metadata": {},
   "outputs": [],
   "source": [
    "import numpy as np\n",
    "from scipy.stats import entropy\n",
    "from scipy.signal import find_peaks\n",
    "\n",
    "def extract_features(fft_freqs, fft_mags, fft_phase):\n",
    "    # Normalize magnitudes to prevent division errors\n",
    "    norm_mags = fft_mags / np.sum(fft_mags) if np.sum(fft_mags) > 0 else fft_mags\n",
    "    \n",
    "    # Spectral Centroid (Weighted Mean of Frequencies)\n",
    "    spectral_centroid = np.sum(fft_freqs * norm_mags) / np.sum(norm_mags)\n",
    "\n",
    "    # Spectral Bandwidth (Spread around centroid)\n",
    "    spectral_bandwidth = np.sqrt(np.sum(norm_mags * (fft_freqs - spectral_centroid) ** 2))\n",
    "\n",
    "    # Spectral Flatness (Geometric Mean / Arithmetic Mean)\n",
    "    spectral_flatness = np.exp(np.mean(np.log(fft_mags + 1e-10))) / np.mean(fft_mags + 1e-10)\n",
    "\n",
    "    # Find peaks in the magnitude spectrum\n",
    "    peaks, _ = find_peaks(fft_mags, height=0.1 * np.max(fft_mags))  # Adaptive threshold\n",
    "\n",
    "    # Harmonic Ratio (Ratio of 2nd peak to 1st peak)\n",
    "    if len(peaks) >= 2:\n",
    "        harmonic_ratio = fft_mags[peaks[1]] / fft_mags[peaks[0]]\n",
    "    else:\n",
    "        harmonic_ratio = 0  # No second peak detected\n",
    "\n",
    "    # Phase Features\n",
    "    phase_variance = np.var(fft_phase)  # Variance of phase angles\n",
    "    phase_mean = np.mean(fft_phase)  # Mean of phase angles\n",
    "    phase_diff = np.mean(np.diff(fft_phase))  # Average phase difference between frequencies\n",
    "\n",
    "    return {\n",
    "        \"mean_fft\": np.mean(fft_mags),\n",
    "        \"std_fft\": np.std(fft_mags),\n",
    "        \"max_fft\": np.max(fft_mags),\n",
    "        \"min_fft\": np.min(fft_mags),\n",
    "        \"median_fft\": np.median(fft_mags),\n",
    "        \"sum_fft\": np.sum(fft_mags),\n",
    "        \"spectral_entropy\": entropy(norm_mags),  # Energy spread\n",
    "        \"spectral_centroid\": spectral_centroid,\n",
    "        \"spectral_bandwidth\": spectral_bandwidth,\n",
    "        \"spectral_flatness\": spectral_flatness,\n",
    "        \"phase_variance\": phase_variance,\n",
    "        \"phase_mean\": phase_mean,\n",
    "        \"phase_diff\": phase_diff,\n",
    "    }"
   ]
  },
  {
   "cell_type": "code",
   "execution_count": 97,
   "id": "78f99ff2-035b-424f-8f54-7c33315e733c",
   "metadata": {},
   "outputs": [],
   "source": [
    "# Function to apply perturbation based on reference values\n",
    "def add_perturbation(reference_features, num_rows, perturb_range=0.03):\n",
    "    perturbed_data = []\n",
    "    \n",
    "    for _ in range(num_rows):\n",
    "        perturbed_features = {\n",
    "            key: value * (1 + np.random.uniform(-perturb_range, perturb_range)) \n",
    "            for key, value in reference_features.items()\n",
    "        }\n",
    "        perturbed_data.append(perturbed_features)\n",
    "    \n",
    "    return pd.DataFrame(perturbed_data)"
   ]
  },
  {
   "cell_type": "code",
   "execution_count": 99,
   "id": "a7020c46-757b-4079-b1bf-cd1196cf6486",
   "metadata": {},
   "outputs": [
    {
     "data": {
      "text/plain": [
       "{'mean_fft': np.float64(635.0590910510708),\n",
       " 'std_fft': np.float64(621.2490828974964),\n",
       " 'max_fft': np.float64(46378.61705163702),\n",
       " 'min_fft': np.float64(7.1424536795927756),\n",
       " 'median_fft': np.float64(566.5549229740988),\n",
       " 'sum_fft': np.float64(7620709.0926128505),\n",
       " 'spectral_entropy': np.float64(9.199492044906144),\n",
       " 'spectral_centroid': np.float64(-43.73615206682007),\n",
       " 'spectral_bandwidth': np.float64(576112.7574743595),\n",
       " 'spectral_flatness': np.float64(0.8211543590882378),\n",
       " 'phase_variance': np.float64(3.2664902165455714),\n",
       " 'phase_mean': np.float64(3.434289889507151e-17),\n",
       " 'phase_diff': np.float64(0.00025474690760510937)}"
      ]
     },
     "execution_count": 99,
     "metadata": {},
     "output_type": "execute_result"
    }
   ],
   "source": [
    "# Extract features for fft_test\n",
    "reference_features_test = extract_features(fft_frequencies_test, fft_magnitudes_test, fft_phase_test)\n",
    "reference_features_test"
   ]
  },
  {
   "cell_type": "code",
   "execution_count": null,
   "id": "b97e99b2-6659-4dbc-b00e-f2aaeb0bf5b9",
   "metadata": {},
   "outputs": [],
   "source": []
  },
  {
   "cell_type": "code",
   "execution_count": null,
   "id": "5dc36467-71b1-4012-ab5b-54e127ac9652",
   "metadata": {},
   "outputs": [],
   "source": []
  },
  {
   "cell_type": "code",
   "execution_count": 103,
   "id": "442dc0c4-31b8-4ef7-81ea-fded2092578f",
   "metadata": {},
   "outputs": [
    {
     "data": {
      "text/html": [
       "<div>\n",
       "<style scoped>\n",
       "    .dataframe tbody tr th:only-of-type {\n",
       "        vertical-align: middle;\n",
       "    }\n",
       "\n",
       "    .dataframe tbody tr th {\n",
       "        vertical-align: top;\n",
       "    }\n",
       "\n",
       "    .dataframe thead th {\n",
       "        text-align: right;\n",
       "    }\n",
       "</style>\n",
       "<table border=\"1\" class=\"dataframe\">\n",
       "  <thead>\n",
       "    <tr style=\"text-align: right;\">\n",
       "      <th></th>\n",
       "      <th>mean_fft</th>\n",
       "      <th>std_fft</th>\n",
       "      <th>max_fft</th>\n",
       "      <th>min_fft</th>\n",
       "      <th>median_fft</th>\n",
       "      <th>sum_fft</th>\n",
       "      <th>spectral_entropy</th>\n",
       "      <th>spectral_centroid</th>\n",
       "      <th>spectral_bandwidth</th>\n",
       "      <th>spectral_flatness</th>\n",
       "      <th>phase_variance</th>\n",
       "      <th>phase_mean</th>\n",
       "      <th>phase_diff</th>\n",
       "    </tr>\n",
       "  </thead>\n",
       "  <tbody>\n",
       "    <tr>\n",
       "      <th>0</th>\n",
       "      <td>638.085375</td>\n",
       "      <td>623.686950</td>\n",
       "      <td>45829.466652</td>\n",
       "      <td>7.080351</td>\n",
       "      <td>575.511007</td>\n",
       "      <td>7.778529e+06</td>\n",
       "      <td>9.320360</td>\n",
       "      <td>-44.406808</td>\n",
       "      <td>573601.480411</td>\n",
       "      <td>0.820799</td>\n",
       "      <td>3.339728</td>\n",
       "      <td>3.502633e-17</td>\n",
       "      <td>0.000260</td>\n",
       "    </tr>\n",
       "    <tr>\n",
       "      <th>1</th>\n",
       "      <td>623.304535</td>\n",
       "      <td>633.562245</td>\n",
       "      <td>46204.809414</td>\n",
       "      <td>7.165441</td>\n",
       "      <td>581.160603</td>\n",
       "      <td>7.464081e+06</td>\n",
       "      <td>9.449409</td>\n",
       "      <td>-43.290247</td>\n",
       "      <td>589806.965281</td>\n",
       "      <td>0.830919</td>\n",
       "      <td>3.170796</td>\n",
       "      <td>3.483072e-17</td>\n",
       "      <td>0.000255</td>\n",
       "    </tr>\n",
       "    <tr>\n",
       "      <th>2</th>\n",
       "      <td>643.646322</td>\n",
       "      <td>604.400314</td>\n",
       "      <td>46635.802613</td>\n",
       "      <td>7.187572</td>\n",
       "      <td>554.418460</td>\n",
       "      <td>7.846304e+06</td>\n",
       "      <td>9.330408</td>\n",
       "      <td>-42.748732</td>\n",
       "      <td>561025.279227</td>\n",
       "      <td>0.801714</td>\n",
       "      <td>3.357195</td>\n",
       "      <td>3.440917e-17</td>\n",
       "      <td>0.000255</td>\n",
       "    </tr>\n",
       "    <tr>\n",
       "      <th>3</th>\n",
       "      <td>637.695850</td>\n",
       "      <td>638.570592</td>\n",
       "      <td>45127.081597</td>\n",
       "      <td>7.099222</td>\n",
       "      <td>576.031322</td>\n",
       "      <td>7.607892e+06</td>\n",
       "      <td>9.188116</td>\n",
       "      <td>-42.615602</td>\n",
       "      <td>564535.087721</td>\n",
       "      <td>0.800834</td>\n",
       "      <td>3.257316</td>\n",
       "      <td>3.522466e-17</td>\n",
       "      <td>0.000257</td>\n",
       "    </tr>\n",
       "    <tr>\n",
       "      <th>4</th>\n",
       "      <td>645.223668</td>\n",
       "      <td>628.969622</td>\n",
       "      <td>46498.840401</td>\n",
       "      <td>6.964653</td>\n",
       "      <td>563.777088</td>\n",
       "      <td>7.399869e+06</td>\n",
       "      <td>9.385898</td>\n",
       "      <td>-43.788161</td>\n",
       "      <td>559401.200147</td>\n",
       "      <td>0.845444</td>\n",
       "      <td>3.351867</td>\n",
       "      <td>3.531392e-17</td>\n",
       "      <td>0.000262</td>\n",
       "    </tr>\n",
       "    <tr>\n",
       "      <th>...</th>\n",
       "      <td>...</td>\n",
       "      <td>...</td>\n",
       "      <td>...</td>\n",
       "      <td>...</td>\n",
       "      <td>...</td>\n",
       "      <td>...</td>\n",
       "      <td>...</td>\n",
       "      <td>...</td>\n",
       "      <td>...</td>\n",
       "      <td>...</td>\n",
       "      <td>...</td>\n",
       "      <td>...</td>\n",
       "      <td>...</td>\n",
       "    </tr>\n",
       "    <tr>\n",
       "      <th>11995</th>\n",
       "      <td>652.351946</td>\n",
       "      <td>639.057917</td>\n",
       "      <td>46143.675904</td>\n",
       "      <td>6.983436</td>\n",
       "      <td>576.694420</td>\n",
       "      <td>7.531969e+06</td>\n",
       "      <td>9.074767</td>\n",
       "      <td>-43.024526</td>\n",
       "      <td>567948.424572</td>\n",
       "      <td>0.834670</td>\n",
       "      <td>3.200443</td>\n",
       "      <td>3.494215e-17</td>\n",
       "      <td>0.000251</td>\n",
       "    </tr>\n",
       "    <tr>\n",
       "      <th>11996</th>\n",
       "      <td>630.748324</td>\n",
       "      <td>623.590678</td>\n",
       "      <td>47175.317016</td>\n",
       "      <td>7.099841</td>\n",
       "      <td>553.053500</td>\n",
       "      <td>7.722796e+06</td>\n",
       "      <td>8.941079</td>\n",
       "      <td>-44.090790</td>\n",
       "      <td>573788.002123</td>\n",
       "      <td>0.822794</td>\n",
       "      <td>3.355415</td>\n",
       "      <td>3.420899e-17</td>\n",
       "      <td>0.000251</td>\n",
       "    </tr>\n",
       "    <tr>\n",
       "      <th>11997</th>\n",
       "      <td>623.520068</td>\n",
       "      <td>606.448928</td>\n",
       "      <td>47668.491667</td>\n",
       "      <td>7.041047</td>\n",
       "      <td>560.977467</td>\n",
       "      <td>7.778059e+06</td>\n",
       "      <td>9.420688</td>\n",
       "      <td>-43.491673</td>\n",
       "      <td>587386.778579</td>\n",
       "      <td>0.821760</td>\n",
       "      <td>3.268772</td>\n",
       "      <td>3.514223e-17</td>\n",
       "      <td>0.000261</td>\n",
       "    </tr>\n",
       "    <tr>\n",
       "      <th>11998</th>\n",
       "      <td>624.010666</td>\n",
       "      <td>624.759080</td>\n",
       "      <td>47505.437345</td>\n",
       "      <td>7.208213</td>\n",
       "      <td>569.688319</td>\n",
       "      <td>7.594993e+06</td>\n",
       "      <td>9.235623</td>\n",
       "      <td>-44.564196</td>\n",
       "      <td>561856.927554</td>\n",
       "      <td>0.838647</td>\n",
       "      <td>3.207652</td>\n",
       "      <td>3.380432e-17</td>\n",
       "      <td>0.000258</td>\n",
       "    </tr>\n",
       "    <tr>\n",
       "      <th>11999</th>\n",
       "      <td>629.900428</td>\n",
       "      <td>610.245046</td>\n",
       "      <td>45567.100225</td>\n",
       "      <td>7.307507</td>\n",
       "      <td>575.644499</td>\n",
       "      <td>7.715753e+06</td>\n",
       "      <td>9.286389</td>\n",
       "      <td>-44.039085</td>\n",
       "      <td>585182.850010</td>\n",
       "      <td>0.813745</td>\n",
       "      <td>3.358099</td>\n",
       "      <td>3.382031e-17</td>\n",
       "      <td>0.000262</td>\n",
       "    </tr>\n",
       "  </tbody>\n",
       "</table>\n",
       "<p>12000 rows × 13 columns</p>\n",
       "</div>"
      ],
      "text/plain": [
       "         mean_fft     std_fft       max_fft   min_fft  median_fft  \\\n",
       "0      638.085375  623.686950  45829.466652  7.080351  575.511007   \n",
       "1      623.304535  633.562245  46204.809414  7.165441  581.160603   \n",
       "2      643.646322  604.400314  46635.802613  7.187572  554.418460   \n",
       "3      637.695850  638.570592  45127.081597  7.099222  576.031322   \n",
       "4      645.223668  628.969622  46498.840401  6.964653  563.777088   \n",
       "...           ...         ...           ...       ...         ...   \n",
       "11995  652.351946  639.057917  46143.675904  6.983436  576.694420   \n",
       "11996  630.748324  623.590678  47175.317016  7.099841  553.053500   \n",
       "11997  623.520068  606.448928  47668.491667  7.041047  560.977467   \n",
       "11998  624.010666  624.759080  47505.437345  7.208213  569.688319   \n",
       "11999  629.900428  610.245046  45567.100225  7.307507  575.644499   \n",
       "\n",
       "            sum_fft  spectral_entropy  spectral_centroid  spectral_bandwidth  \\\n",
       "0      7.778529e+06          9.320360         -44.406808       573601.480411   \n",
       "1      7.464081e+06          9.449409         -43.290247       589806.965281   \n",
       "2      7.846304e+06          9.330408         -42.748732       561025.279227   \n",
       "3      7.607892e+06          9.188116         -42.615602       564535.087721   \n",
       "4      7.399869e+06          9.385898         -43.788161       559401.200147   \n",
       "...             ...               ...                ...                 ...   \n",
       "11995  7.531969e+06          9.074767         -43.024526       567948.424572   \n",
       "11996  7.722796e+06          8.941079         -44.090790       573788.002123   \n",
       "11997  7.778059e+06          9.420688         -43.491673       587386.778579   \n",
       "11998  7.594993e+06          9.235623         -44.564196       561856.927554   \n",
       "11999  7.715753e+06          9.286389         -44.039085       585182.850010   \n",
       "\n",
       "       spectral_flatness  phase_variance    phase_mean  phase_diff  \n",
       "0               0.820799        3.339728  3.502633e-17    0.000260  \n",
       "1               0.830919        3.170796  3.483072e-17    0.000255  \n",
       "2               0.801714        3.357195  3.440917e-17    0.000255  \n",
       "3               0.800834        3.257316  3.522466e-17    0.000257  \n",
       "4               0.845444        3.351867  3.531392e-17    0.000262  \n",
       "...                  ...             ...           ...         ...  \n",
       "11995           0.834670        3.200443  3.494215e-17    0.000251  \n",
       "11996           0.822794        3.355415  3.420899e-17    0.000251  \n",
       "11997           0.821760        3.268772  3.514223e-17    0.000261  \n",
       "11998           0.838647        3.207652  3.380432e-17    0.000258  \n",
       "11999           0.813745        3.358099  3.382031e-17    0.000262  \n",
       "\n",
       "[12000 rows x 13 columns]"
      ]
     },
     "execution_count": 103,
     "metadata": {},
     "output_type": "execute_result"
    }
   ],
   "source": [
    "# Generate a DataFrame with perturbed values for all rows in fft_test\n",
    "num_rows_test = len(dataframe_testdata)\n",
    "perturbed_test_df = add_perturbation(reference_features_test, num_rows_test, perturb_range=0.03)\n",
    "perturbed_test_df"
   ]
  },
  {
   "cell_type": "code",
   "execution_count": null,
   "id": "7596cbe7-7bba-4f4a-8d22-b193831da61d",
   "metadata": {},
   "outputs": [],
   "source": []
  },
  {
   "cell_type": "code",
   "execution_count": 105,
   "id": "6df31926",
   "metadata": {},
   "outputs": [
    {
     "data": {
      "text/html": [
       "<div>\n",
       "<style scoped>\n",
       "    .dataframe tbody tr th:only-of-type {\n",
       "        vertical-align: middle;\n",
       "    }\n",
       "\n",
       "    .dataframe tbody tr th {\n",
       "        vertical-align: top;\n",
       "    }\n",
       "\n",
       "    .dataframe thead th {\n",
       "        text-align: right;\n",
       "    }\n",
       "</style>\n",
       "<table border=\"1\" class=\"dataframe\">\n",
       "  <thead>\n",
       "    <tr style=\"text-align: right;\">\n",
       "      <th></th>\n",
       "      <th>Frequency</th>\n",
       "      <th>FFT Magnitude</th>\n",
       "      <th>Phase</th>\n",
       "      <th>Infant_Presence</th>\n",
       "    </tr>\n",
       "  </thead>\n",
       "  <tbody>\n",
       "    <tr>\n",
       "      <th>0</th>\n",
       "      <td>0.000000</td>\n",
       "      <td>46378.617052</td>\n",
       "      <td>0.000000</td>\n",
       "      <td>1.0</td>\n",
       "    </tr>\n",
       "    <tr>\n",
       "      <th>1</th>\n",
       "      <td>162.760417</td>\n",
       "      <td>22730.877556</td>\n",
       "      <td>-3.056708</td>\n",
       "      <td>1.0</td>\n",
       "    </tr>\n",
       "    <tr>\n",
       "      <th>2</th>\n",
       "      <td>325.520833</td>\n",
       "      <td>1213.847030</td>\n",
       "      <td>2.132477</td>\n",
       "      <td>1.0</td>\n",
       "    </tr>\n",
       "    <tr>\n",
       "      <th>3</th>\n",
       "      <td>488.281250</td>\n",
       "      <td>461.454602</td>\n",
       "      <td>2.500521</td>\n",
       "      <td>1.0</td>\n",
       "    </tr>\n",
       "    <tr>\n",
       "      <th>4</th>\n",
       "      <td>651.041667</td>\n",
       "      <td>788.183052</td>\n",
       "      <td>0.018248</td>\n",
       "      <td>1.0</td>\n",
       "    </tr>\n",
       "    <tr>\n",
       "      <th>...</th>\n",
       "      <td>...</td>\n",
       "      <td>...</td>\n",
       "      <td>...</td>\n",
       "      <td>...</td>\n",
       "    </tr>\n",
       "    <tr>\n",
       "      <th>11995</th>\n",
       "      <td>-813.802083</td>\n",
       "      <td>708.186621</td>\n",
       "      <td>1.826979</td>\n",
       "      <td>1.0</td>\n",
       "    </tr>\n",
       "    <tr>\n",
       "      <th>11996</th>\n",
       "      <td>-651.041667</td>\n",
       "      <td>788.183052</td>\n",
       "      <td>-0.018248</td>\n",
       "      <td>1.0</td>\n",
       "    </tr>\n",
       "    <tr>\n",
       "      <th>11997</th>\n",
       "      <td>-488.281250</td>\n",
       "      <td>461.454602</td>\n",
       "      <td>-2.500521</td>\n",
       "      <td>1.0</td>\n",
       "    </tr>\n",
       "    <tr>\n",
       "      <th>11998</th>\n",
       "      <td>-325.520833</td>\n",
       "      <td>1213.847030</td>\n",
       "      <td>-2.132477</td>\n",
       "      <td>1.0</td>\n",
       "    </tr>\n",
       "    <tr>\n",
       "      <th>11999</th>\n",
       "      <td>-162.760417</td>\n",
       "      <td>22730.877556</td>\n",
       "      <td>3.056708</td>\n",
       "      <td>1.0</td>\n",
       "    </tr>\n",
       "  </tbody>\n",
       "</table>\n",
       "<p>12000 rows × 4 columns</p>\n",
       "</div>"
      ],
      "text/plain": [
       "        Frequency  FFT Magnitude     Phase  Infant_Presence\n",
       "0        0.000000   46378.617052  0.000000              1.0\n",
       "1      162.760417   22730.877556 -3.056708              1.0\n",
       "2      325.520833    1213.847030  2.132477              1.0\n",
       "3      488.281250     461.454602  2.500521              1.0\n",
       "4      651.041667     788.183052  0.018248              1.0\n",
       "...           ...            ...       ...              ...\n",
       "11995 -813.802083     708.186621  1.826979              1.0\n",
       "11996 -651.041667     788.183052 -0.018248              1.0\n",
       "11997 -488.281250     461.454602 -2.500521              1.0\n",
       "11998 -325.520833    1213.847030 -2.132477              1.0\n",
       "11999 -162.760417   22730.877556  3.056708              1.0\n",
       "\n",
       "[12000 rows x 4 columns]"
      ]
     },
     "execution_count": 105,
     "metadata": {},
     "output_type": "execute_result"
    }
   ],
   "source": [
    "dataframe_testdata"
   ]
  },
  {
   "cell_type": "code",
   "execution_count": 106,
   "id": "c5a1d5cf",
   "metadata": {},
   "outputs": [
    {
     "data": {
      "text/plain": [
       "(12000, 12000)"
      ]
     },
     "execution_count": 106,
     "metadata": {},
     "output_type": "execute_result"
    }
   ],
   "source": [
    "len(perturbed_test_df),len(dataframe_testdata)"
   ]
  },
  {
   "cell_type": "code",
   "execution_count": 110,
   "id": "656e2694",
   "metadata": {},
   "outputs": [
    {
     "data": {
      "text/html": [
       "<div>\n",
       "<style scoped>\n",
       "    .dataframe tbody tr th:only-of-type {\n",
       "        vertical-align: middle;\n",
       "    }\n",
       "\n",
       "    .dataframe tbody tr th {\n",
       "        vertical-align: top;\n",
       "    }\n",
       "\n",
       "    .dataframe thead th {\n",
       "        text-align: right;\n",
       "    }\n",
       "</style>\n",
       "<table border=\"1\" class=\"dataframe\">\n",
       "  <thead>\n",
       "    <tr style=\"text-align: right;\">\n",
       "      <th></th>\n",
       "      <th>Frequency</th>\n",
       "      <th>FFT Magnitude</th>\n",
       "      <th>Phase</th>\n",
       "      <th>Infant_Presence</th>\n",
       "      <th>mean_fft</th>\n",
       "      <th>std_fft</th>\n",
       "      <th>max_fft</th>\n",
       "      <th>min_fft</th>\n",
       "      <th>median_fft</th>\n",
       "      <th>sum_fft</th>\n",
       "      <th>spectral_entropy</th>\n",
       "      <th>spectral_centroid</th>\n",
       "      <th>spectral_bandwidth</th>\n",
       "      <th>spectral_flatness</th>\n",
       "      <th>phase_variance</th>\n",
       "      <th>phase_mean</th>\n",
       "      <th>phase_diff</th>\n",
       "    </tr>\n",
       "  </thead>\n",
       "  <tbody>\n",
       "    <tr>\n",
       "      <th>0</th>\n",
       "      <td>0.000000</td>\n",
       "      <td>46378.617052</td>\n",
       "      <td>0.000000</td>\n",
       "      <td>1.0</td>\n",
       "      <td>638.085375</td>\n",
       "      <td>623.686950</td>\n",
       "      <td>45829.466652</td>\n",
       "      <td>7.080351</td>\n",
       "      <td>575.511007</td>\n",
       "      <td>7.778529e+06</td>\n",
       "      <td>9.320360</td>\n",
       "      <td>-44.406808</td>\n",
       "      <td>573601.480411</td>\n",
       "      <td>0.820799</td>\n",
       "      <td>3.339728</td>\n",
       "      <td>3.502633e-17</td>\n",
       "      <td>0.000260</td>\n",
       "    </tr>\n",
       "    <tr>\n",
       "      <th>1</th>\n",
       "      <td>162.760417</td>\n",
       "      <td>22730.877556</td>\n",
       "      <td>-3.056708</td>\n",
       "      <td>1.0</td>\n",
       "      <td>623.304535</td>\n",
       "      <td>633.562245</td>\n",
       "      <td>46204.809414</td>\n",
       "      <td>7.165441</td>\n",
       "      <td>581.160603</td>\n",
       "      <td>7.464081e+06</td>\n",
       "      <td>9.449409</td>\n",
       "      <td>-43.290247</td>\n",
       "      <td>589806.965281</td>\n",
       "      <td>0.830919</td>\n",
       "      <td>3.170796</td>\n",
       "      <td>3.483072e-17</td>\n",
       "      <td>0.000255</td>\n",
       "    </tr>\n",
       "    <tr>\n",
       "      <th>2</th>\n",
       "      <td>325.520833</td>\n",
       "      <td>1213.847030</td>\n",
       "      <td>2.132477</td>\n",
       "      <td>1.0</td>\n",
       "      <td>643.646322</td>\n",
       "      <td>604.400314</td>\n",
       "      <td>46635.802613</td>\n",
       "      <td>7.187572</td>\n",
       "      <td>554.418460</td>\n",
       "      <td>7.846304e+06</td>\n",
       "      <td>9.330408</td>\n",
       "      <td>-42.748732</td>\n",
       "      <td>561025.279227</td>\n",
       "      <td>0.801714</td>\n",
       "      <td>3.357195</td>\n",
       "      <td>3.440917e-17</td>\n",
       "      <td>0.000255</td>\n",
       "    </tr>\n",
       "    <tr>\n",
       "      <th>3</th>\n",
       "      <td>488.281250</td>\n",
       "      <td>461.454602</td>\n",
       "      <td>2.500521</td>\n",
       "      <td>1.0</td>\n",
       "      <td>637.695850</td>\n",
       "      <td>638.570592</td>\n",
       "      <td>45127.081597</td>\n",
       "      <td>7.099222</td>\n",
       "      <td>576.031322</td>\n",
       "      <td>7.607892e+06</td>\n",
       "      <td>9.188116</td>\n",
       "      <td>-42.615602</td>\n",
       "      <td>564535.087721</td>\n",
       "      <td>0.800834</td>\n",
       "      <td>3.257316</td>\n",
       "      <td>3.522466e-17</td>\n",
       "      <td>0.000257</td>\n",
       "    </tr>\n",
       "    <tr>\n",
       "      <th>4</th>\n",
       "      <td>651.041667</td>\n",
       "      <td>788.183052</td>\n",
       "      <td>0.018248</td>\n",
       "      <td>1.0</td>\n",
       "      <td>645.223668</td>\n",
       "      <td>628.969622</td>\n",
       "      <td>46498.840401</td>\n",
       "      <td>6.964653</td>\n",
       "      <td>563.777088</td>\n",
       "      <td>7.399869e+06</td>\n",
       "      <td>9.385898</td>\n",
       "      <td>-43.788161</td>\n",
       "      <td>559401.200147</td>\n",
       "      <td>0.845444</td>\n",
       "      <td>3.351867</td>\n",
       "      <td>3.531392e-17</td>\n",
       "      <td>0.000262</td>\n",
       "    </tr>\n",
       "  </tbody>\n",
       "</table>\n",
       "</div>"
      ],
      "text/plain": [
       "    Frequency  FFT Magnitude     Phase  Infant_Presence    mean_fft  \\\n",
       "0    0.000000   46378.617052  0.000000              1.0  638.085375   \n",
       "1  162.760417   22730.877556 -3.056708              1.0  623.304535   \n",
       "2  325.520833    1213.847030  2.132477              1.0  643.646322   \n",
       "3  488.281250     461.454602  2.500521              1.0  637.695850   \n",
       "4  651.041667     788.183052  0.018248              1.0  645.223668   \n",
       "\n",
       "      std_fft       max_fft   min_fft  median_fft       sum_fft  \\\n",
       "0  623.686950  45829.466652  7.080351  575.511007  7.778529e+06   \n",
       "1  633.562245  46204.809414  7.165441  581.160603  7.464081e+06   \n",
       "2  604.400314  46635.802613  7.187572  554.418460  7.846304e+06   \n",
       "3  638.570592  45127.081597  7.099222  576.031322  7.607892e+06   \n",
       "4  628.969622  46498.840401  6.964653  563.777088  7.399869e+06   \n",
       "\n",
       "   spectral_entropy  spectral_centroid  spectral_bandwidth  spectral_flatness  \\\n",
       "0          9.320360         -44.406808       573601.480411           0.820799   \n",
       "1          9.449409         -43.290247       589806.965281           0.830919   \n",
       "2          9.330408         -42.748732       561025.279227           0.801714   \n",
       "3          9.188116         -42.615602       564535.087721           0.800834   \n",
       "4          9.385898         -43.788161       559401.200147           0.845444   \n",
       "\n",
       "   phase_variance    phase_mean  phase_diff  \n",
       "0        3.339728  3.502633e-17    0.000260  \n",
       "1        3.170796  3.483072e-17    0.000255  \n",
       "2        3.357195  3.440917e-17    0.000255  \n",
       "3        3.257316  3.522466e-17    0.000257  \n",
       "4        3.351867  3.531392e-17    0.000262  "
      ]
     },
     "execution_count": 110,
     "metadata": {},
     "output_type": "execute_result"
    }
   ],
   "source": [
    "# Ensure both DataFrames have the same number of rows\n",
    "if len(dataframe_testdata) != len(perturbed_test_df):\n",
    "    print(\"The DataFrames have different lengths. Adjust them to have the same number of rows before concatenating.\")\n",
    "else:\n",
    "    # Concatenate the DataFrames side by side\n",
    "    dataframe_testdata_withfeatures = pd.concat([dataframe_testdata, perturbed_test_df], axis=1)\n",
    "\n",
    "# Display the first few rows of the updated dataframe_testdata to verify\n",
    "dataframe_testdata_withfeatures.head()"
   ]
  },
  {
   "cell_type": "code",
   "execution_count": 112,
   "id": "b90fb370",
   "metadata": {},
   "outputs": [
    {
     "data": {
      "text/plain": [
       "12000"
      ]
     },
     "execution_count": 112,
     "metadata": {},
     "output_type": "execute_result"
    }
   ],
   "source": [
    "len(dataframe_testdata)"
   ]
  },
  {
   "cell_type": "markdown",
   "id": "ca801514-73cd-40f4-9162-16788abc63e4",
   "metadata": {},
   "source": [
    "# Testing the Random Forest Model"
   ]
  },
  {
   "cell_type": "code",
   "execution_count": 115,
   "id": "e9eb0618-d333-43b5-9d5e-d03d8dc605e2",
   "metadata": {},
   "outputs": [],
   "source": [
    "#dropping features"
   ]
  },
  {
   "cell_type": "code",
   "execution_count": 117,
   "id": "36c77a5a-98fd-41b6-acbb-d29e95d1e6c7",
   "metadata": {},
   "outputs": [],
   "source": [
    "to_drop = {'median_fft', 'phase_mean', 'spectral_bandwidth', 'min_fft', 'max_fft', 'sum_fft', 'spectral_centroid', 'spectral_entropy', 'mean_fft', 'std_fft', 'phase_diff'}\n",
    "test_X = dataframe_testdata_withfeatures.drop(columns=['Infant_Presence'])  # Features\n",
    "test_y = dataframe_testdata_withfeatures['Infant_Presence']  # Labels\n",
    "test_x_dataset_1_reduced = test_X.drop(columns=to_drop)"
   ]
  },
  {
   "cell_type": "code",
   "execution_count": 119,
   "id": "38a6b484-5755-450c-8993-9918c2e110f6",
   "metadata": {},
   "outputs": [
    {
     "data": {
      "text/html": [
       "<div>\n",
       "<style scoped>\n",
       "    .dataframe tbody tr th:only-of-type {\n",
       "        vertical-align: middle;\n",
       "    }\n",
       "\n",
       "    .dataframe tbody tr th {\n",
       "        vertical-align: top;\n",
       "    }\n",
       "\n",
       "    .dataframe thead th {\n",
       "        text-align: right;\n",
       "    }\n",
       "</style>\n",
       "<table border=\"1\" class=\"dataframe\">\n",
       "  <thead>\n",
       "    <tr style=\"text-align: right;\">\n",
       "      <th></th>\n",
       "      <th>Frequency</th>\n",
       "      <th>FFT Magnitude</th>\n",
       "      <th>Phase</th>\n",
       "      <th>spectral_flatness</th>\n",
       "      <th>phase_variance</th>\n",
       "    </tr>\n",
       "  </thead>\n",
       "  <tbody>\n",
       "    <tr>\n",
       "      <th>0</th>\n",
       "      <td>0.000000</td>\n",
       "      <td>46378.617052</td>\n",
       "      <td>0.000000</td>\n",
       "      <td>0.820799</td>\n",
       "      <td>3.339728</td>\n",
       "    </tr>\n",
       "    <tr>\n",
       "      <th>1</th>\n",
       "      <td>162.760417</td>\n",
       "      <td>22730.877556</td>\n",
       "      <td>-3.056708</td>\n",
       "      <td>0.830919</td>\n",
       "      <td>3.170796</td>\n",
       "    </tr>\n",
       "    <tr>\n",
       "      <th>2</th>\n",
       "      <td>325.520833</td>\n",
       "      <td>1213.847030</td>\n",
       "      <td>2.132477</td>\n",
       "      <td>0.801714</td>\n",
       "      <td>3.357195</td>\n",
       "    </tr>\n",
       "    <tr>\n",
       "      <th>3</th>\n",
       "      <td>488.281250</td>\n",
       "      <td>461.454602</td>\n",
       "      <td>2.500521</td>\n",
       "      <td>0.800834</td>\n",
       "      <td>3.257316</td>\n",
       "    </tr>\n",
       "    <tr>\n",
       "      <th>4</th>\n",
       "      <td>651.041667</td>\n",
       "      <td>788.183052</td>\n",
       "      <td>0.018248</td>\n",
       "      <td>0.845444</td>\n",
       "      <td>3.351867</td>\n",
       "    </tr>\n",
       "    <tr>\n",
       "      <th>...</th>\n",
       "      <td>...</td>\n",
       "      <td>...</td>\n",
       "      <td>...</td>\n",
       "      <td>...</td>\n",
       "      <td>...</td>\n",
       "    </tr>\n",
       "    <tr>\n",
       "      <th>11995</th>\n",
       "      <td>-813.802083</td>\n",
       "      <td>708.186621</td>\n",
       "      <td>1.826979</td>\n",
       "      <td>0.834670</td>\n",
       "      <td>3.200443</td>\n",
       "    </tr>\n",
       "    <tr>\n",
       "      <th>11996</th>\n",
       "      <td>-651.041667</td>\n",
       "      <td>788.183052</td>\n",
       "      <td>-0.018248</td>\n",
       "      <td>0.822794</td>\n",
       "      <td>3.355415</td>\n",
       "    </tr>\n",
       "    <tr>\n",
       "      <th>11997</th>\n",
       "      <td>-488.281250</td>\n",
       "      <td>461.454602</td>\n",
       "      <td>-2.500521</td>\n",
       "      <td>0.821760</td>\n",
       "      <td>3.268772</td>\n",
       "    </tr>\n",
       "    <tr>\n",
       "      <th>11998</th>\n",
       "      <td>-325.520833</td>\n",
       "      <td>1213.847030</td>\n",
       "      <td>-2.132477</td>\n",
       "      <td>0.838647</td>\n",
       "      <td>3.207652</td>\n",
       "    </tr>\n",
       "    <tr>\n",
       "      <th>11999</th>\n",
       "      <td>-162.760417</td>\n",
       "      <td>22730.877556</td>\n",
       "      <td>3.056708</td>\n",
       "      <td>0.813745</td>\n",
       "      <td>3.358099</td>\n",
       "    </tr>\n",
       "  </tbody>\n",
       "</table>\n",
       "<p>12000 rows × 5 columns</p>\n",
       "</div>"
      ],
      "text/plain": [
       "        Frequency  FFT Magnitude     Phase  spectral_flatness  phase_variance\n",
       "0        0.000000   46378.617052  0.000000           0.820799        3.339728\n",
       "1      162.760417   22730.877556 -3.056708           0.830919        3.170796\n",
       "2      325.520833    1213.847030  2.132477           0.801714        3.357195\n",
       "3      488.281250     461.454602  2.500521           0.800834        3.257316\n",
       "4      651.041667     788.183052  0.018248           0.845444        3.351867\n",
       "...           ...            ...       ...                ...             ...\n",
       "11995 -813.802083     708.186621  1.826979           0.834670        3.200443\n",
       "11996 -651.041667     788.183052 -0.018248           0.822794        3.355415\n",
       "11997 -488.281250     461.454602 -2.500521           0.821760        3.268772\n",
       "11998 -325.520833    1213.847030 -2.132477           0.838647        3.207652\n",
       "11999 -162.760417   22730.877556  3.056708           0.813745        3.358099\n",
       "\n",
       "[12000 rows x 5 columns]"
      ]
     },
     "execution_count": 119,
     "metadata": {},
     "output_type": "execute_result"
    }
   ],
   "source": [
    "test_x_dataset_1_reduced"
   ]
  },
  {
   "cell_type": "code",
   "execution_count": 121,
   "id": "b5856da0-a709-4696-b0e2-e267c275c28a",
   "metadata": {},
   "outputs": [
    {
     "data": {
      "text/plain": [
       "0        1.0\n",
       "1        1.0\n",
       "2        1.0\n",
       "3        1.0\n",
       "4        1.0\n",
       "        ... \n",
       "11995    1.0\n",
       "11996    1.0\n",
       "11997    1.0\n",
       "11998    1.0\n",
       "11999    1.0\n",
       "Name: Infant_Presence, Length: 12000, dtype: float64"
      ]
     },
     "execution_count": 121,
     "metadata": {},
     "output_type": "execute_result"
    }
   ],
   "source": [
    "test_y"
   ]
  },
  {
   "cell_type": "code",
   "execution_count": 123,
   "id": "4e27dc37-8ab0-4fff-879f-2d671338c2c1",
   "metadata": {},
   "outputs": [
    {
     "data": {
      "text/plain": [
       "array([1., 1., 0., ..., 1., 1., 0.], shape=(12000,))"
      ]
     },
     "execution_count": 123,
     "metadata": {},
     "output_type": "execute_result"
    }
   ],
   "source": [
    "import joblib\n",
    "\n",
    "# Load the trained Random Forest model\n",
    "clf = joblib.load('random_forest_model_Baby_Covered_in_Blanket_Sunscreen.pkl')\n",
    "\n",
    "# Example: Transform new data and make predictions\n",
    "y_pred = clf.predict(test_x_dataset_1_reduced)\n",
    "y_pred"
   ]
  },
  {
   "cell_type": "code",
   "execution_count": 125,
   "id": "279e29af-9674-4ba8-a789-87c3bc40e058",
   "metadata": {},
   "outputs": [
    {
     "name": "stdout",
     "output_type": "stream",
     "text": [
      "Accuracy: 0.8739\n",
      "\n",
      "Classification Report:\n",
      "              precision    recall  f1-score   support\n",
      "\n",
      "         0.0       0.00      0.00      0.00         0\n",
      "         1.0       1.00      0.87      0.93     12000\n",
      "\n",
      "    accuracy                           0.87     12000\n",
      "   macro avg       0.50      0.44      0.47     12000\n",
      "weighted avg       1.00      0.87      0.93     12000\n",
      "\n",
      "\n",
      "Confusion Matrix:\n",
      "[[    0     0]\n",
      " [ 1513 10487]]\n"
     ]
    },
    {
     "name": "stderr",
     "output_type": "stream",
     "text": [
      "C:\\Users\\ANUSHRUTH\\anaconda3\\Lib\\site-packages\\sklearn\\metrics\\_classification.py:1565: UndefinedMetricWarning: Recall is ill-defined and being set to 0.0 in labels with no true samples. Use `zero_division` parameter to control this behavior.\n",
      "  _warn_prf(average, modifier, f\"{metric.capitalize()} is\", len(result))\n",
      "C:\\Users\\ANUSHRUTH\\anaconda3\\Lib\\site-packages\\sklearn\\metrics\\_classification.py:1565: UndefinedMetricWarning: Recall is ill-defined and being set to 0.0 in labels with no true samples. Use `zero_division` parameter to control this behavior.\n",
      "  _warn_prf(average, modifier, f\"{metric.capitalize()} is\", len(result))\n",
      "C:\\Users\\ANUSHRUTH\\anaconda3\\Lib\\site-packages\\sklearn\\metrics\\_classification.py:1565: UndefinedMetricWarning: Recall is ill-defined and being set to 0.0 in labels with no true samples. Use `zero_division` parameter to control this behavior.\n",
      "  _warn_prf(average, modifier, f\"{metric.capitalize()} is\", len(result))\n"
     ]
    }
   ],
   "source": [
    "from sklearn.metrics import accuracy_score, classification_report, confusion_matrix\n",
    "\n",
    "# Accuracy\n",
    "accuracy = accuracy_score(test_y, y_pred)\n",
    "print(f\"Accuracy: {accuracy:.4f}\")\n",
    "\n",
    "# Optional: More detailed report\n",
    "print(\"\\nClassification Report:\")\n",
    "print(classification_report(test_y, y_pred))\n",
    "\n",
    "# Optional: Confusion matrix\n",
    "print(\"\\nConfusion Matrix:\")\n",
    "print(confusion_matrix(test_y, y_pred))\n"
   ]
  },
  {
   "cell_type": "code",
   "execution_count": 127,
   "id": "4fe45b48-7bed-4de7-9d62-07e00148064c",
   "metadata": {},
   "outputs": [
    {
     "data": {
      "image/png": "[encoded data removed]",
      "text/plain": [
       "<Figure size 600x600 with 2 Axes>"
      ]
     },
     "metadata": {},
     "output_type": "display_data"
    }
   ],
   "source": [
    "# Generate confusion matrix\n",
    "cm = confusion_matrix(test_y, y_pred)\n",
    "cm\n",
    "\n",
    "fig, ax = plt.subplots(figsize=(6, 6))\n",
    "sns.heatmap(cm, annot=True, fmt='d', ax=ax)  # Use fmt='d' for integer annotation\n",
    "plt.xlabel(\"Predicted label\")\n",
    "plt.ylabel(\"True label\")\n",
    "plt.title('Confusion Matrix for test dataset')\n",
    "plt.show()"
   ]
  },
  {
   "cell_type": "code",
   "execution_count": null,
   "id": "3a332b78-a44f-4973-8fba-5aa63a986652",
   "metadata": {},
   "outputs": [],
   "source": []
  },
  {
   "cell_type": "code",
   "execution_count": null,
   "id": "738278e9-6da3-44e7-a51f-ad1446860eba",
   "metadata": {},
   "outputs": [],
   "source": []
  },
  {
   "cell_type": "markdown",
   "id": "03045516-ef40-49ea-8bcf-3282f282bcab",
   "metadata": {},
   "source": [
    "# Testing with XG Boost model task 3"
   ]
  },
  {
   "cell_type": "code",
   "execution_count": null,
   "id": "6ab28265-c289-4d51-88cc-950ac48ff526",
   "metadata": {},
   "outputs": [],
   "source": []
  },
  {
   "cell_type": "code",
   "execution_count": 133,
   "id": "267b39f2-91c4-43f5-8b43-7f478187edba",
   "metadata": {},
   "outputs": [
    {
     "data": {
      "text/plain": [
       "array([1, 1, 0, ..., 1, 1, 0], shape=(12000,))"
      ]
     },
     "execution_count": 133,
     "metadata": {},
     "output_type": "execute_result"
    }
   ],
   "source": [
    "import xgboost as xgb\n",
    "import joblib\n",
    "\n",
    "# Load the trained XGBoost model\n",
    "clf = xgb.XGBClassifier()\n",
    "clf.load_model('xgboost_model_Baby_Covered_in_Blanket_Sunscreen.json')\n",
    "\n",
    "# Load the scaler\n",
    "scaler = joblib.load('xgboost_scaler_Baby_Covered_in_Blanket_Sunscreen.pkl')\n",
    "\n",
    "# Example: Transform new data and make predictions\n",
    "X_new_scaled = scaler.transform(test_x_dataset_1_reduced)\n",
    "y_pred = clf.predict(X_new_scaled)\n",
    "y_pred"
   ]
  },
  {
   "cell_type": "code",
   "execution_count": 134,
   "id": "25264ccf-ba54-431d-9388-ccc2ef76b5fb",
   "metadata": {},
   "outputs": [
    {
     "name": "stdout",
     "output_type": "stream",
     "text": [
      "Accuracy: 0.8577\n",
      "\n",
      "Classification Report:\n",
      "              precision    recall  f1-score   support\n",
      "\n",
      "         0.0       0.00      0.00      0.00         0\n",
      "         1.0       1.00      0.86      0.92     12000\n",
      "\n",
      "    accuracy                           0.86     12000\n",
      "   macro avg       0.50      0.43      0.46     12000\n",
      "weighted avg       1.00      0.86      0.92     12000\n",
      "\n",
      "\n",
      "Confusion Matrix:\n",
      "[[    0     0]\n",
      " [ 1708 10292]]\n"
     ]
    },
    {
     "name": "stderr",
     "output_type": "stream",
     "text": [
      "C:\\Users\\ANUSHRUTH\\anaconda3\\Lib\\site-packages\\sklearn\\metrics\\_classification.py:1565: UndefinedMetricWarning: Recall is ill-defined and being set to 0.0 in labels with no true samples. Use `zero_division` parameter to control this behavior.\n",
      "  _warn_prf(average, modifier, f\"{metric.capitalize()} is\", len(result))\n",
      "C:\\Users\\ANUSHRUTH\\anaconda3\\Lib\\site-packages\\sklearn\\metrics\\_classification.py:1565: UndefinedMetricWarning: Recall is ill-defined and being set to 0.0 in labels with no true samples. Use `zero_division` parameter to control this behavior.\n",
      "  _warn_prf(average, modifier, f\"{metric.capitalize()} is\", len(result))\n",
      "C:\\Users\\ANUSHRUTH\\anaconda3\\Lib\\site-packages\\sklearn\\metrics\\_classification.py:1565: UndefinedMetricWarning: Recall is ill-defined and being set to 0.0 in labels with no true samples. Use `zero_division` parameter to control this behavior.\n",
      "  _warn_prf(average, modifier, f\"{metric.capitalize()} is\", len(result))\n"
     ]
    }
   ],
   "source": [
    "from sklearn.metrics import accuracy_score, classification_report, confusion_matrix\n",
    "\n",
    "# Accuracy\n",
    "accuracy = accuracy_score(test_y, y_pred)\n",
    "print(f\"Accuracy: {accuracy:.4f}\")\n",
    "\n",
    "# Optional: More detailed report\n",
    "print(\"\\nClassification Report:\")\n",
    "print(classification_report(test_y, y_pred))\n",
    "\n",
    "# Optional: Confusion matrix\n",
    "print(\"\\nConfusion Matrix:\")\n",
    "print(confusion_matrix(test_y, y_pred))\n"
   ]
  },
  {
   "cell_type": "code",
   "execution_count": 137,
   "id": "73dfc4fd-3fb1-4310-858f-ebba8f64a9cf",
   "metadata": {},
   "outputs": [
    {
     "data": {
      "image/png": "[encoded data removed]",
      "text/plain": [
       "<Figure size 600x600 with 2 Axes>"
      ]
     },
     "metadata": {},
     "output_type": "display_data"
    }
   ],
   "source": [
    "# Generate confusion matrix\n",
    "cm = confusion_matrix(test_y, y_pred)\n",
    "cm\n",
    "\n",
    "fig, ax = plt.subplots(figsize=(6, 6))\n",
    "sns.heatmap(cm, annot=True, fmt='d', ax=ax)  # Use fmt='d' for integer annotation\n",
    "plt.xlabel(\"Predicted label\")\n",
    "plt.ylabel(\"True label\")\n",
    "plt.title('Confusion Matrix for test dataset')\n",
    "plt.show()"
   ]
  },
  {
   "cell_type": "code",
   "execution_count": null,
   "id": "55a4b941-cf8a-4652-8d9a-e0d00cdde1f3",
   "metadata": {},
   "outputs": [],
   "source": []
  },
  {
   "cell_type": "code",
   "execution_count": null,
   "id": "d7826408-e96b-4d64-be0b-6b271cf78428",
   "metadata": {},
   "outputs": [],
   "source": []
  },
  {
   "cell_type": "code",
   "execution_count": null,
   "id": "c1630724-a4fe-41eb-9843-45258c0e8e9f",
   "metadata": {},
   "outputs": [],
   "source": []
  },
  {
   "cell_type": "code",
   "execution_count": null,
   "id": "63da93cf-ffdd-4f7b-aecb-eda904aeaf39",
   "metadata": {},
   "outputs": [],
   "source": []
  },
  {
   "cell_type": "code",
   "execution_count": null,
   "id": "881aa242-fc92-411f-8c86-49015c01900e",
   "metadata": {},
   "outputs": [],
   "source": []
  },
  {
   "cell_type": "code",
   "execution_count": null,
   "id": "93615411-8b0d-4d3e-86cc-c568c137e1c9",
   "metadata": {},
   "outputs": [],
   "source": []
  },
  {
   "cell_type": "code",
   "execution_count": null,
   "id": "4346d4b7-cda6-4545-beff-1abb725d1361",
   "metadata": {},
   "outputs": [],
   "source": []
  }
 ],
 "metadata": {
  "kernelspec": {
   "display_name": "Python 3 (ipykernel)",
   "language": "python",
   "name": "python3"
  },
  "language_info": {
   "codemirror_mode": {
    "name": "ipython",
    "version": 3
   },
   "file_extension": ".py",
   "mimetype": "text/x-python",
   "name": "python",
   "nbconvert_exporter": "python",
   "pygments_lexer": "ipython3",
   "version": "3.12.7"
  }
 },
 "nbformat": 4,
 "nbformat_minor": 5
}
