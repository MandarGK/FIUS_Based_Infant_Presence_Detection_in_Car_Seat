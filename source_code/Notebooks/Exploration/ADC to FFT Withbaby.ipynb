{
 "cells": [
  {
   "cell_type": "code",
   "execution_count": 1,
   "id": "9f6d9c50",
   "metadata": {},
   "outputs": [
    {
     "data": {
      "text/plain": [
       "'ADC to FFT Withbaby new approach'"
      ]
     },
     "execution_count": 1,
     "metadata": {},
     "output_type": "execute_result"
    }
   ],
   "source": [
    "'ADC to FFT Withbaby new approach'\n"
   ]
  },
  {
   "cell_type": "markdown",
   "id": "30753c62",
   "metadata": {},
   "source": [
    "# Loading the Data"
   ]
  },
  {
   "cell_type": "code",
   "execution_count": 1,
   "id": "82db8ee2-0f59-40ce-bed2-84b360f756d3",
   "metadata": {},
   "outputs": [
    {
     "data": {
      "text/plain": [
       "126"
      ]
     },
     "execution_count": 1,
     "metadata": {},
     "output_type": "execute_result"
    }
   ],
   "source": [
    "import gc\n",
    "gc.collect()"
   ]
  },
  {
   "cell_type": "code",
   "execution_count": 2,
   "id": "7fbba695-3cf6-44ac-bbe2-3d0d4bc45343",
   "metadata": {},
   "outputs": [],
   "source": [
    "%reset -f"
   ]
  },
  {
   "cell_type": "code",
   "execution_count": 3,
   "id": "2fe107f7",
   "metadata": {},
   "outputs": [],
   "source": [
    "import numpy as np\n",
    "import pandas as pd\n",
    "import os\n",
    "import matplotlib.pyplot as plt"
   ]
  },
  {
   "cell_type": "code",
   "execution_count": 6,
   "id": "74af7b7f-a27d-4630-9b1b-8269d16e9266",
   "metadata": {},
   "outputs": [],
   "source": [
    "# Set directory containing CSV files\n",
    "data_dir = r\"D:\\AIS & ML\\realtime testing\\testbaby\"\n",
    "\n",
    "# Load all CSV files\n",
    "csv_files = [os.path.join(data_dir, f) for f in os.listdir(data_dir) if f.endswith('.csv')]\n",
    "dfs = [pd.read_csv(file, header=None) for file in csv_files]\n"
   ]
  },
  {
   "cell_type": "code",
   "execution_count": 7,
   "id": "7b9389f8-98eb-481b-9df4-0eeddee5cf63",
   "metadata": {},
   "outputs": [
    {
     "data": {
      "text/html": [
       "<div>\n",
       "<style scoped>\n",
       "    .dataframe tbody tr th:only-of-type {\n",
       "        vertical-align: middle;\n",
       "    }\n",
       "\n",
       "    .dataframe tbody tr th {\n",
       "        vertical-align: top;\n",
       "    }\n",
       "\n",
       "    .dataframe thead th {\n",
       "        text-align: right;\n",
       "    }\n",
       "</style>\n",
       "<table border=\"1\" class=\"dataframe\">\n",
       "  <thead>\n",
       "    <tr style=\"text-align: right;\">\n",
       "      <th></th>\n",
       "      <th>0</th>\n",
       "      <th>1</th>\n",
       "      <th>2</th>\n",
       "      <th>3</th>\n",
       "      <th>4</th>\n",
       "      <th>5</th>\n",
       "      <th>6</th>\n",
       "      <th>7</th>\n",
       "      <th>8</th>\n",
       "      <th>9</th>\n",
       "      <th>...</th>\n",
       "      <th>16390</th>\n",
       "      <th>16391</th>\n",
       "      <th>16392</th>\n",
       "      <th>16393</th>\n",
       "      <th>16394</th>\n",
       "      <th>16395</th>\n",
       "      <th>16396</th>\n",
       "      <th>16397</th>\n",
       "      <th>16398</th>\n",
       "      <th>16399</th>\n",
       "    </tr>\n",
       "  </thead>\n",
       "  <tbody>\n",
       "    <tr>\n",
       "      <th>0</th>\n",
       "      <td>64</td>\n",
       "      <td>32768</td>\n",
       "      <td>1</td>\n",
       "      <td>1</td>\n",
       "      <td>512</td>\n",
       "      <td>0</td>\n",
       "      <td>1953125</td>\n",
       "      <td>12</td>\n",
       "      <td>0.0</td>\n",
       "      <td>0</td>\n",
       "      <td>...</td>\n",
       "      <td>-4</td>\n",
       "      <td>-7</td>\n",
       "      <td>-11</td>\n",
       "      <td>-19</td>\n",
       "      <td>-25</td>\n",
       "      <td>-28</td>\n",
       "      <td>-31</td>\n",
       "      <td>-29</td>\n",
       "      <td>-29</td>\n",
       "      <td>-33</td>\n",
       "    </tr>\n",
       "    <tr>\n",
       "      <th>1</th>\n",
       "      <td>64</td>\n",
       "      <td>32768</td>\n",
       "      <td>1</td>\n",
       "      <td>1</td>\n",
       "      <td>512</td>\n",
       "      <td>0</td>\n",
       "      <td>1953125</td>\n",
       "      <td>12</td>\n",
       "      <td>0.0</td>\n",
       "      <td>0</td>\n",
       "      <td>...</td>\n",
       "      <td>9</td>\n",
       "      <td>7</td>\n",
       "      <td>0</td>\n",
       "      <td>-3</td>\n",
       "      <td>-9</td>\n",
       "      <td>-16</td>\n",
       "      <td>-21</td>\n",
       "      <td>-19</td>\n",
       "      <td>-22</td>\n",
       "      <td>-20</td>\n",
       "    </tr>\n",
       "    <tr>\n",
       "      <th>2</th>\n",
       "      <td>64</td>\n",
       "      <td>32768</td>\n",
       "      <td>1</td>\n",
       "      <td>1</td>\n",
       "      <td>512</td>\n",
       "      <td>0</td>\n",
       "      <td>1953125</td>\n",
       "      <td>12</td>\n",
       "      <td>0.0</td>\n",
       "      <td>0</td>\n",
       "      <td>...</td>\n",
       "      <td>11</td>\n",
       "      <td>7</td>\n",
       "      <td>3</td>\n",
       "      <td>-2</td>\n",
       "      <td>-7</td>\n",
       "      <td>-8</td>\n",
       "      <td>-14</td>\n",
       "      <td>-18</td>\n",
       "      <td>-24</td>\n",
       "      <td>-32</td>\n",
       "    </tr>\n",
       "    <tr>\n",
       "      <th>3</th>\n",
       "      <td>64</td>\n",
       "      <td>32768</td>\n",
       "      <td>1</td>\n",
       "      <td>1</td>\n",
       "      <td>512</td>\n",
       "      <td>0</td>\n",
       "      <td>1953125</td>\n",
       "      <td>12</td>\n",
       "      <td>0.0</td>\n",
       "      <td>0</td>\n",
       "      <td>...</td>\n",
       "      <td>0</td>\n",
       "      <td>5</td>\n",
       "      <td>13</td>\n",
       "      <td>16</td>\n",
       "      <td>15</td>\n",
       "      <td>23</td>\n",
       "      <td>28</td>\n",
       "      <td>31</td>\n",
       "      <td>31</td>\n",
       "      <td>30</td>\n",
       "    </tr>\n",
       "    <tr>\n",
       "      <th>4</th>\n",
       "      <td>64</td>\n",
       "      <td>32768</td>\n",
       "      <td>1</td>\n",
       "      <td>1</td>\n",
       "      <td>512</td>\n",
       "      <td>0</td>\n",
       "      <td>1953125</td>\n",
       "      <td>12</td>\n",
       "      <td>0.0</td>\n",
       "      <td>0</td>\n",
       "      <td>...</td>\n",
       "      <td>-16</td>\n",
       "      <td>-19</td>\n",
       "      <td>-20</td>\n",
       "      <td>-24</td>\n",
       "      <td>-29</td>\n",
       "      <td>-27</td>\n",
       "      <td>-29</td>\n",
       "      <td>-32</td>\n",
       "      <td>-34</td>\n",
       "      <td>-31</td>\n",
       "    </tr>\n",
       "    <tr>\n",
       "      <th>5</th>\n",
       "      <td>64</td>\n",
       "      <td>32768</td>\n",
       "      <td>1</td>\n",
       "      <td>1</td>\n",
       "      <td>512</td>\n",
       "      <td>0</td>\n",
       "      <td>1953125</td>\n",
       "      <td>12</td>\n",
       "      <td>0.0</td>\n",
       "      <td>0</td>\n",
       "      <td>...</td>\n",
       "      <td>-23</td>\n",
       "      <td>-24</td>\n",
       "      <td>-19</td>\n",
       "      <td>-10</td>\n",
       "      <td>-4</td>\n",
       "      <td>4</td>\n",
       "      <td>6</td>\n",
       "      <td>10</td>\n",
       "      <td>10</td>\n",
       "      <td>15</td>\n",
       "    </tr>\n",
       "    <tr>\n",
       "      <th>6</th>\n",
       "      <td>64</td>\n",
       "      <td>32768</td>\n",
       "      <td>1</td>\n",
       "      <td>1</td>\n",
       "      <td>512</td>\n",
       "      <td>0</td>\n",
       "      <td>1953125</td>\n",
       "      <td>12</td>\n",
       "      <td>0.0</td>\n",
       "      <td>0</td>\n",
       "      <td>...</td>\n",
       "      <td>33</td>\n",
       "      <td>27</td>\n",
       "      <td>22</td>\n",
       "      <td>17</td>\n",
       "      <td>15</td>\n",
       "      <td>11</td>\n",
       "      <td>9</td>\n",
       "      <td>8</td>\n",
       "      <td>4</td>\n",
       "      <td>2</td>\n",
       "    </tr>\n",
       "    <tr>\n",
       "      <th>7</th>\n",
       "      <td>64</td>\n",
       "      <td>32768</td>\n",
       "      <td>1</td>\n",
       "      <td>1</td>\n",
       "      <td>512</td>\n",
       "      <td>0</td>\n",
       "      <td>1953125</td>\n",
       "      <td>12</td>\n",
       "      <td>0.0</td>\n",
       "      <td>0</td>\n",
       "      <td>...</td>\n",
       "      <td>32</td>\n",
       "      <td>27</td>\n",
       "      <td>27</td>\n",
       "      <td>24</td>\n",
       "      <td>18</td>\n",
       "      <td>15</td>\n",
       "      <td>6</td>\n",
       "      <td>4</td>\n",
       "      <td>4</td>\n",
       "      <td>-2</td>\n",
       "    </tr>\n",
       "    <tr>\n",
       "      <th>8</th>\n",
       "      <td>64</td>\n",
       "      <td>32768</td>\n",
       "      <td>1</td>\n",
       "      <td>1</td>\n",
       "      <td>512</td>\n",
       "      <td>0</td>\n",
       "      <td>1953125</td>\n",
       "      <td>12</td>\n",
       "      <td>0.0</td>\n",
       "      <td>0</td>\n",
       "      <td>...</td>\n",
       "      <td>33</td>\n",
       "      <td>34</td>\n",
       "      <td>34</td>\n",
       "      <td>35</td>\n",
       "      <td>38</td>\n",
       "      <td>38</td>\n",
       "      <td>37</td>\n",
       "      <td>32</td>\n",
       "      <td>29</td>\n",
       "      <td>24</td>\n",
       "    </tr>\n",
       "    <tr>\n",
       "      <th>9</th>\n",
       "      <td>64</td>\n",
       "      <td>32768</td>\n",
       "      <td>1</td>\n",
       "      <td>1</td>\n",
       "      <td>512</td>\n",
       "      <td>0</td>\n",
       "      <td>1953125</td>\n",
       "      <td>12</td>\n",
       "      <td>0.0</td>\n",
       "      <td>0</td>\n",
       "      <td>...</td>\n",
       "      <td>-23</td>\n",
       "      <td>-20</td>\n",
       "      <td>-19</td>\n",
       "      <td>-13</td>\n",
       "      <td>-9</td>\n",
       "      <td>-5</td>\n",
       "      <td>-2</td>\n",
       "      <td>4</td>\n",
       "      <td>6</td>\n",
       "      <td>11</td>\n",
       "    </tr>\n",
       "  </tbody>\n",
       "</table>\n",
       "<p>10 rows × 16400 columns</p>\n",
       "</div>"
      ],
      "text/plain": [
       "   0      1      2      3      4      5        6      7      8      9      \\\n",
       "0     64  32768      1      1    512      0  1953125     12    0.0      0   \n",
       "1     64  32768      1      1    512      0  1953125     12    0.0      0   \n",
       "2     64  32768      1      1    512      0  1953125     12    0.0      0   \n",
       "3     64  32768      1      1    512      0  1953125     12    0.0      0   \n",
       "4     64  32768      1      1    512      0  1953125     12    0.0      0   \n",
       "5     64  32768      1      1    512      0  1953125     12    0.0      0   \n",
       "6     64  32768      1      1    512      0  1953125     12    0.0      0   \n",
       "7     64  32768      1      1    512      0  1953125     12    0.0      0   \n",
       "8     64  32768      1      1    512      0  1953125     12    0.0      0   \n",
       "9     64  32768      1      1    512      0  1953125     12    0.0      0   \n",
       "\n",
       "   ...  16390  16391  16392 16393  16394  16395  16396  16397  16398  16399  \n",
       "0  ...     -4     -7    -11   -19    -25    -28    -31    -29    -29    -33  \n",
       "1  ...      9      7      0    -3     -9    -16    -21    -19    -22    -20  \n",
       "2  ...     11      7      3    -2     -7     -8    -14    -18    -24    -32  \n",
       "3  ...      0      5     13    16     15     23     28     31     31     30  \n",
       "4  ...    -16    -19    -20   -24    -29    -27    -29    -32    -34    -31  \n",
       "5  ...    -23    -24    -19   -10     -4      4      6     10     10     15  \n",
       "6  ...     33     27     22    17     15     11      9      8      4      2  \n",
       "7  ...     32     27     27    24     18     15      6      4      4     -2  \n",
       "8  ...     33     34     34    35     38     38     37     32     29     24  \n",
       "9  ...    -23    -20    -19   -13     -9     -5     -2      4      6     11  \n",
       "\n",
       "[10 rows x 16400 columns]"
      ]
     },
     "execution_count": 7,
     "metadata": {},
     "output_type": "execute_result"
    }
   ],
   "source": [
    "# Combine all CSV data\n",
    "combined_df = pd.concat(dfs, ignore_index=True)\n",
    "combined_df"
   ]
  },
  {
   "cell_type": "code",
   "execution_count": 8,
   "id": "b2a1d489-3c06-4079-8df1-309d0c07f779",
   "metadata": {},
   "outputs": [
    {
     "data": {
      "text/plain": [
       "(10, 16400)"
      ]
     },
     "execution_count": 8,
     "metadata": {},
     "output_type": "execute_result"
    }
   ],
   "source": [
    "combined_df.shape"
   ]
  },
  {
   "cell_type": "code",
   "execution_count": 9,
   "id": "a4787fa1-2389-410e-8635-29e601d986b4",
   "metadata": {},
   "outputs": [
    {
     "data": {
      "text/plain": [
       "array([[-36, -34, -32, ..., -29, -29, -33],\n",
       "       [-20, -23, -27, ..., -19, -22, -20],\n",
       "       [-34, -37, -36, ..., -18, -24, -32],\n",
       "       ...,\n",
       "       [ -4,  -7,  -8, ...,   4,   4,  -2],\n",
       "       [ 17,  12,   7, ...,  32,  29,  24],\n",
       "       [ 15,  21,  24, ...,   4,   6,  11]], shape=(10, 16384))"
      ]
     },
     "execution_count": 9,
     "metadata": {},
     "output_type": "execute_result"
    }
   ],
   "source": [
    "adc_data = combined_df.iloc[:, 16:].values  # Extract ADC values (skip metadata columns)\n",
    "adc_data\n",
    "#print(f\"Loaded data shape: {adc_data.shape}\")  # Shape should be (num_samples, num_features)\n"
   ]
  },
  {
   "cell_type": "code",
   "execution_count": 10,
   "id": "ce1542b4-1438-43ea-a0eb-9aede56c29ca",
   "metadata": {},
   "outputs": [
    {
     "data": {
      "text/plain": [
       "array([[ -52.34028267,  -78.04274451, -102.59568817, ...,  -26.15876986,\n",
       "         -28.52757154,  -30.59947143],\n",
       "       [ -36.0855018 ,  -69.82258064, -102.59952748, ...,  -12.90753696,\n",
       "         -15.27202941,  -17.34554578],\n",
       "       [ -47.01042589,  -81.12087122, -114.63823616, ...,  -17.51177196,\n",
       "         -20.55545906,  -23.27629633],\n",
       "       ...,\n",
       "       [  -8.24473158,  -36.35741412,  -64.54058859, ...,   10.46211641,\n",
       "           8.33659827,    6.41035199],\n",
       "       [  34.2879413 ,   45.74838676,   55.9048207 , ...,   32.14036457,\n",
       "          31.740678  ,   31.31731052],\n",
       "       [  15.86905924,   46.12292398,   76.70325272, ...,   -0.20366252,\n",
       "           1.94468918,    3.87735989]], shape=(10, 16384))"
      ]
     },
     "execution_count": 10,
     "metadata": {},
     "output_type": "execute_result"
    }
   ],
   "source": [
    "from scipy.signal import butter, filtfilt\n",
    "\n",
    "def butter_lowpass_filter(signal, cutoff=30e3, fs=1e6, order=5):\n",
    "    nyquist = 0.5 * fs\n",
    "    normal_cutoff = cutoff / nyquist\n",
    "    b, a = butter(order, normal_cutoff, btype='low', analog=False)\n",
    "    return filtfilt(b, a, signal)\n",
    "\n",
    "filtered_data = np.array([butter_lowpass_filter(row) for row in adc_data])\n",
    "filtered_data"
   ]
  },
  {
   "cell_type": "code",
   "execution_count": 11,
   "id": "b5ddd741-b851-4fd8-bfbd-ef178c623b88",
   "metadata": {},
   "outputs": [
    {
     "name": "stdout",
     "output_type": "stream",
     "text": [
      "SNR After Fixing: 22.67 dB\n"
     ]
    }
   ],
   "source": [
    "def calculate_snr(signal, noise):\n",
    "    power_signal = np.mean(signal ** 2)\n",
    "    power_noise = np.mean(noise ** 2)\n",
    "    return 10 * np.log10(power_signal / power_noise)\n",
    "\n",
    "snr_after = calculate_snr(filtered_data, adc_data - filtered_data)\n",
    "print(f\"SNR After Fixing: {snr_after:.2f} dB\")"
   ]
  },
  {
   "cell_type": "code",
   "execution_count": null,
   "id": "5f2f6177-4e3a-4d2e-81fd-e27416ce7345",
   "metadata": {},
   "outputs": [],
   "source": []
  },
  {
   "cell_type": "code",
   "execution_count": 14,
   "id": "3afc8fc3",
   "metadata": {},
   "outputs": [
    {
     "data": {
      "text/plain": [
       "array([  4.8731446 , -11.57358475,   4.59314466,   6.95571968,\n",
       "         4.55676893,   6.59725193,  11.70774264, -10.93815556,\n",
       "        15.16121833,  -9.65302469])"
      ]
     },
     "execution_count": 14,
     "metadata": {},
     "output_type": "execute_result"
    }
   ],
   "source": [
    "# Select from the 17th column to the end\n",
    "adc_data_selected_columns = filtered_data.mean(axis=1)  # Python uses 0-based indexing\n",
    "adc_data_selected_columns"
   ]
  },
  {
   "cell_type": "markdown",
   "id": "d09beabf",
   "metadata": {},
   "source": [
    "# ADC to FFT Conversion"
   ]
  },
  {
   "cell_type": "code",
   "execution_count": 20,
   "id": "a453a726-82fd-49c9-94e0-d4e3ecdbefa9",
   "metadata": {},
   "outputs": [
    {
     "data": {
      "text/html": [
       "<div>\n",
       "<style scoped>\n",
       "    .dataframe tbody tr th:only-of-type {\n",
       "        vertical-align: middle;\n",
       "    }\n",
       "\n",
       "    .dataframe tbody tr th {\n",
       "        vertical-align: top;\n",
       "    }\n",
       "\n",
       "    .dataframe thead th {\n",
       "        text-align: right;\n",
       "    }\n",
       "</style>\n",
       "<table border=\"1\" class=\"dataframe\">\n",
       "  <thead>\n",
       "    <tr style=\"text-align: right;\">\n",
       "      <th></th>\n",
       "      <th>Frequency</th>\n",
       "      <th>FFT Magnitude</th>\n",
       "      <th>Phase</th>\n",
       "    </tr>\n",
       "  </thead>\n",
       "  <tbody>\n",
       "    <tr>\n",
       "      <th>0</th>\n",
       "      <td>0.0</td>\n",
       "      <td>22.613350</td>\n",
       "      <td>0.000000</td>\n",
       "    </tr>\n",
       "    <tr>\n",
       "      <th>1</th>\n",
       "      <td>195312.5</td>\n",
       "      <td>18.273343</td>\n",
       "      <td>-2.805970</td>\n",
       "    </tr>\n",
       "    <tr>\n",
       "      <th>2</th>\n",
       "      <td>390625.0</td>\n",
       "      <td>7.095907</td>\n",
       "      <td>0.403994</td>\n",
       "    </tr>\n",
       "    <tr>\n",
       "      <th>3</th>\n",
       "      <td>585937.5</td>\n",
       "      <td>12.028819</td>\n",
       "      <td>1.936965</td>\n",
       "    </tr>\n",
       "    <tr>\n",
       "      <th>4</th>\n",
       "      <td>781250.0</td>\n",
       "      <td>11.062640</td>\n",
       "      <td>-1.737490</td>\n",
       "    </tr>\n",
       "  </tbody>\n",
       "</table>\n",
       "</div>"
      ],
      "text/plain": [
       "   Frequency  FFT Magnitude     Phase\n",
       "0        0.0      22.613350  0.000000\n",
       "1   195312.5      18.273343 -2.805970\n",
       "2   390625.0       7.095907  0.403994\n",
       "3   585937.5      12.028819  1.936965\n",
       "4   781250.0      11.062640 -1.737490"
      ]
     },
     "execution_count": 20,
     "metadata": {},
     "output_type": "execute_result"
    }
   ],
   "source": [
    "# Assuming `adc_data` is your pandas Series with ADC data\n",
    "adc_array = adc_data_selected_columns # Convert the pandas Series to a numpy array\n",
    "\n",
    "# Choose a window function - Hanning window in this case\n",
    "window = np.hanning(len(adc_array))\n",
    "\n",
    "# Apply the window function to your data\n",
    "windowed_adc_data = adc_array * window\n",
    "\n",
    "# Perform FFT on the windowed data\n",
    "fft_result = np.fft.fft(windowed_adc_data)\n",
    "\n",
    "# Frequency bins (assuming you know the sampling rate)\n",
    "sampling_rate = 1953125  # Example: 1000 Hz, replace with your actual sampling rate\n",
    "min_freq = 35000  # 35 kHz\n",
    "max_freq = 45000  # 45 kHz\n",
    "\n",
    "n = len(adc_array)\n",
    "freq = np.fft.fftfreq(n, d=1/sampling_rate)\n",
    "# Calculate the magnitude and phase of the FFT result\n",
    "magnitude = np.abs(fft_result)\n",
    "phase = np.angle(fft_result)\n",
    "\n",
    "# Filter frequencies within 35kHz - 45kHz\n",
    "#valid_indices = (freq >= min_freq) & (freq <= max_freq)\n",
    "#filtered_freqs = freq[valid_indices]\n",
    "#filtered_magnitudes = magnitude[valid_indices]\n",
    "#filtered_phase = phase[valid_indices]\n",
    "\n",
    "# Create a DataFrame\n",
    "fft_df = pd.DataFrame({\n",
    "    'Frequency': freq,\n",
    "    'FFT Magnitude': magnitude,\n",
    "    'Phase': phase\n",
    "})\n",
    "\n",
    "\n",
    "fft_df.head()  # Display the first few rows of the DataFrame"
   ]
  },
  {
   "cell_type": "code",
   "execution_count": 21,
   "id": "7e161398",
   "metadata": {},
   "outputs": [
    {
     "data": {
      "text/html": [
       "<div>\n",
       "<style scoped>\n",
       "    .dataframe tbody tr th:only-of-type {\n",
       "        vertical-align: middle;\n",
       "    }\n",
       "\n",
       "    .dataframe tbody tr th {\n",
       "        vertical-align: top;\n",
       "    }\n",
       "\n",
       "    .dataframe thead th {\n",
       "        text-align: right;\n",
       "    }\n",
       "</style>\n",
       "<table border=\"1\" class=\"dataframe\">\n",
       "  <thead>\n",
       "    <tr style=\"text-align: right;\">\n",
       "      <th></th>\n",
       "      <th>Frequency</th>\n",
       "      <th>FFT Magnitude</th>\n",
       "      <th>Phase</th>\n",
       "      <th>Infant_Presence</th>\n",
       "    </tr>\n",
       "  </thead>\n",
       "  <tbody>\n",
       "    <tr>\n",
       "      <th>0</th>\n",
       "      <td>0.0</td>\n",
       "      <td>22.613350</td>\n",
       "      <td>0.000000</td>\n",
       "      <td>1</td>\n",
       "    </tr>\n",
       "    <tr>\n",
       "      <th>1</th>\n",
       "      <td>195312.5</td>\n",
       "      <td>18.273343</td>\n",
       "      <td>-2.805970</td>\n",
       "      <td>1</td>\n",
       "    </tr>\n",
       "    <tr>\n",
       "      <th>2</th>\n",
       "      <td>390625.0</td>\n",
       "      <td>7.095907</td>\n",
       "      <td>0.403994</td>\n",
       "      <td>1</td>\n",
       "    </tr>\n",
       "    <tr>\n",
       "      <th>3</th>\n",
       "      <td>585937.5</td>\n",
       "      <td>12.028819</td>\n",
       "      <td>1.936965</td>\n",
       "      <td>1</td>\n",
       "    </tr>\n",
       "    <tr>\n",
       "      <th>4</th>\n",
       "      <td>781250.0</td>\n",
       "      <td>11.062640</td>\n",
       "      <td>-1.737490</td>\n",
       "      <td>1</td>\n",
       "    </tr>\n",
       "  </tbody>\n",
       "</table>\n",
       "</div>"
      ],
      "text/plain": [
       "   Frequency  FFT Magnitude     Phase  Infant_Presence\n",
       "0        0.0      22.613350  0.000000                1\n",
       "1   195312.5      18.273343 -2.805970                1\n",
       "2   390625.0       7.095907  0.403994                1\n",
       "3   585937.5      12.028819  1.936965                1\n",
       "4   781250.0      11.062640 -1.737490                1"
      ]
     },
     "execution_count": 21,
     "metadata": {},
     "output_type": "execute_result"
    }
   ],
   "source": [
    "# Add a new column to the fft_magnitude DataFrame for the binary label\n",
    "# Set the value to 1 for presence of an infant with a carriage\n",
    "#For Withbaby vs Withoutbaby\n",
    "fft_df['Infant_Presence'] = 1 # 1 for presence, 0 for absence \n",
    "\n",
    "# Display the first few rows to verify the new column\n",
    "fft_df.head()"
   ]
  },
  {
   "cell_type": "code",
   "execution_count": 22,
   "id": "2377bc1c",
   "metadata": {},
   "outputs": [
    {
     "data": {
      "text/plain": [
       "10"
      ]
     },
     "execution_count": 22,
     "metadata": {},
     "output_type": "execute_result"
    }
   ],
   "source": [
    "len(fft_df)"
   ]
  },
  {
   "cell_type": "code",
   "execution_count": 29,
   "id": "155ea4ec",
   "metadata": {},
   "outputs": [
    {
     "data": {
      "text/html": [
       "<div>\n",
       "<style scoped>\n",
       "    .dataframe tbody tr th:only-of-type {\n",
       "        vertical-align: middle;\n",
       "    }\n",
       "\n",
       "    .dataframe tbody tr th {\n",
       "        vertical-align: top;\n",
       "    }\n",
       "\n",
       "    .dataframe thead th {\n",
       "        text-align: right;\n",
       "    }\n",
       "</style>\n",
       "<table border=\"1\" class=\"dataframe\">\n",
       "  <thead>\n",
       "    <tr style=\"text-align: right;\">\n",
       "      <th></th>\n",
       "      <th>Frequency</th>\n",
       "      <th>FFT Magnitude</th>\n",
       "      <th>Phase</th>\n",
       "      <th>Infant_Presence</th>\n",
       "    </tr>\n",
       "  </thead>\n",
       "  <tbody>\n",
       "    <tr>\n",
       "      <th>5</th>\n",
       "      <td>-976562.5</td>\n",
       "      <td>11.129599</td>\n",
       "      <td>0.000000</td>\n",
       "      <td>1</td>\n",
       "    </tr>\n",
       "    <tr>\n",
       "      <th>6</th>\n",
       "      <td>-781250.0</td>\n",
       "      <td>11.062640</td>\n",
       "      <td>1.737490</td>\n",
       "      <td>1</td>\n",
       "    </tr>\n",
       "    <tr>\n",
       "      <th>7</th>\n",
       "      <td>-585937.5</td>\n",
       "      <td>12.028819</td>\n",
       "      <td>-1.936965</td>\n",
       "      <td>1</td>\n",
       "    </tr>\n",
       "    <tr>\n",
       "      <th>8</th>\n",
       "      <td>-390625.0</td>\n",
       "      <td>7.095907</td>\n",
       "      <td>-0.403994</td>\n",
       "      <td>1</td>\n",
       "    </tr>\n",
       "    <tr>\n",
       "      <th>9</th>\n",
       "      <td>-195312.5</td>\n",
       "      <td>18.273343</td>\n",
       "      <td>2.805970</td>\n",
       "      <td>1</td>\n",
       "    </tr>\n",
       "  </tbody>\n",
       "</table>\n",
       "</div>"
      ],
      "text/plain": [
       "   Frequency  FFT Magnitude     Phase  Infant_Presence\n",
       "5  -976562.5      11.129599  0.000000                1\n",
       "6  -781250.0      11.062640  1.737490                1\n",
       "7  -585937.5      12.028819 -1.936965                1\n",
       "8  -390625.0       7.095907 -0.403994                1\n",
       "9  -195312.5      18.273343  2.805970                1"
      ]
     },
     "execution_count": 29,
     "metadata": {},
     "output_type": "execute_result"
    }
   ],
   "source": [
    "fft_df.tail()"
   ]
  },
  {
   "cell_type": "code",
   "execution_count": 31,
   "id": "4d6d2c1c",
   "metadata": {},
   "outputs": [
    {
     "data": {
      "image/png": "[encoded data removed]",
      "text/plain": [
       "<Figure size 1000x600 with 1 Axes>"
      ]
     },
     "metadata": {},
     "output_type": "display_data"
    }
   ],
   "source": [
    "plt.figure(figsize=(10, 6))  # Set the figure size for better readability\n",
    "plt.plot(fft_df['Frequency'], fft_df['FFT Magnitude'])  # Plot positive frequency vs magnitude\n",
    "plt.title('Magnitude Spectrum')  # Title of the plot\n",
    "plt.xlabel('Frequency (Hz)')  # Label for the x-axis\n",
    "plt.ylabel('Magnitude')  # Label for the y-axis\n",
    "plt.grid(True)  # Show grid for better readability\n",
    "plt.show()  # Display the plot"
   ]
  },
  {
   "cell_type": "markdown",
   "id": "11ad87f4",
   "metadata": {},
   "source": [
    "# Saving as Numpy Array"
   ]
  },
  {
   "cell_type": "code",
   "execution_count": 33,
   "id": "4d9f02df",
   "metadata": {},
   "outputs": [],
   "source": [
    "numpy_array = fft_df.to_numpy()\n",
    "# Save the array to a file\n",
    "np.save('demo_4.npy', numpy_array)\n"
   ]
  },
  {
   "cell_type": "code",
   "execution_count": 55,
   "id": "a0b07407",
   "metadata": {},
   "outputs": [
    {
     "data": {
      "text/plain": [
       "0"
      ]
     },
     "execution_count": 55,
     "metadata": {},
     "output_type": "execute_result"
    }
   ],
   "source": [
    "import gc\n",
    "gc.collect()"
   ]
  },
  {
   "cell_type": "code",
   "execution_count": 53,
   "id": "b45e7143-f8e9-4564-ab26-704a990f1b1f",
   "metadata": {},
   "outputs": [],
   "source": [
    "%reset -f"
   ]
  },
  {
   "cell_type": "code",
   "execution_count": null,
   "id": "b1fddc1a-e564-4a1d-899f-9cf3f258d6a6",
   "metadata": {},
   "outputs": [],
   "source": []
  },
  {
   "cell_type": "code",
   "execution_count": null,
   "id": "317672c6-1faf-48b2-ad36-9a54fb345a69",
   "metadata": {},
   "outputs": [],
   "source": []
  }
 ],
 "metadata": {
  "kernelspec": {
   "display_name": "Python 3 (ipykernel)",
   "language": "python",
   "name": "python3"
  },
  "language_info": {
   "codemirror_mode": {
    "name": "ipython",
    "version": 3
   },
   "file_extension": ".py",
   "mimetype": "text/x-python",
   "name": "python",
   "nbconvert_exporter": "python",
   "pygments_lexer": "ipython3",
   "version": "3.12.7"
  }
 },
 "nbformat": 4,
 "nbformat_minor": 5
}
