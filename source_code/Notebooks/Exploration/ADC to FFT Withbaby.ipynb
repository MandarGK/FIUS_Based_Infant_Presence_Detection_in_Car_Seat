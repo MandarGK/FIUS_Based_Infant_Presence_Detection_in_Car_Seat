{
 "cells": [
  {
   "cell_type": "code",
   "execution_count": 1,
   "id": "9f6d9c50",
   "metadata": {},
   "outputs": [
    {
     "data": {
      "text/plain": [
       "'ADC to FFT Withbaby new approach'"
      ]
     },
     "execution_count": 1,
     "metadata": {},
     "output_type": "execute_result"
    }
   ],
   "source": [
    "'ADC to FFT Withbaby new approach'\n"
   ]
  },
  {
   "cell_type": "markdown",
   "id": "30753c62",
   "metadata": {},
   "source": [
    "# Loading the Data"
   ]
  },
  {
   "cell_type": "code",
   "execution_count": 2,
   "id": "82db8ee2-0f59-40ce-bed2-84b360f756d3",
   "metadata": {},
   "outputs": [
    {
     "data": {
      "text/plain": [
       "3"
      ]
     },
     "execution_count": 2,
     "metadata": {},
     "output_type": "execute_result"
    }
   ],
   "source": [
    "import gc\n",
    "gc.collect()"
   ]
  },
  {
   "cell_type": "code",
   "execution_count": 3,
   "id": "7fbba695-3cf6-44ac-bbe2-3d0d4bc45343",
   "metadata": {},
   "outputs": [],
   "source": [
    "%reset -f"
   ]
  },
  {
   "cell_type": "code",
   "execution_count": null,
   "id": "684554ce",
   "metadata": {},
   "outputs": [],
   "source": [
    "label_value = 1 \n",
    "label_column_name = 'Infant_Presence'"
   ]
  },
  {
   "cell_type": "code",
   "execution_count": 4,
   "id": "2fe107f7",
   "metadata": {},
   "outputs": [],
   "source": [
    "import numpy as np\n",
    "import pandas as pd\n",
    "import os\n",
    "import matplotlib.pyplot as plt"
   ]
  },
  {
   "cell_type": "code",
   "execution_count": 5,
   "id": "74af7b7f-a27d-4630-9b1b-8269d16e9266",
   "metadata": {},
   "outputs": [],
   "source": [
    "# Set directory containing CSV files\n",
    "data_dir = r\"/Users/mandarkale/Documents/MyProjects/MachineLearning/Raw/Withbaby/\"\n",
    "\n",
    "# Load all CSV files\n",
    "csv_files = [os.path.join(data_dir, f) for f in os.listdir(data_dir) if f.endswith('.csv')]\n",
    "dfs = [pd.read_csv(file, header=None) for file in csv_files]\n"
   ]
  },
  {
   "cell_type": "code",
   "execution_count": 6,
   "id": "7b9389f8-98eb-481b-9df4-0eeddee5cf63",
   "metadata": {},
   "outputs": [
    {
     "data": {
      "text/html": [
       "<div>\n",
       "<style scoped>\n",
       "    .dataframe tbody tr th:only-of-type {\n",
       "        vertical-align: middle;\n",
       "    }\n",
       "\n",
       "    .dataframe tbody tr th {\n",
       "        vertical-align: top;\n",
       "    }\n",
       "\n",
       "    .dataframe thead th {\n",
       "        text-align: right;\n",
       "    }\n",
       "</style>\n",
       "<table border=\"1\" class=\"dataframe\">\n",
       "  <thead>\n",
       "    <tr style=\"text-align: right;\">\n",
       "      <th></th>\n",
       "      <th>0</th>\n",
       "      <th>1</th>\n",
       "      <th>2</th>\n",
       "      <th>3</th>\n",
       "      <th>4</th>\n",
       "      <th>5</th>\n",
       "      <th>6</th>\n",
       "      <th>7</th>\n",
       "      <th>8</th>\n",
       "      <th>9</th>\n",
       "      <th>...</th>\n",
       "      <th>16390</th>\n",
       "      <th>16391</th>\n",
       "      <th>16392</th>\n",
       "      <th>16393</th>\n",
       "      <th>16394</th>\n",
       "      <th>16395</th>\n",
       "      <th>16396</th>\n",
       "      <th>16397</th>\n",
       "      <th>16398</th>\n",
       "      <th>16399</th>\n",
       "    </tr>\n",
       "  </thead>\n",
       "  <tbody>\n",
       "    <tr>\n",
       "      <th>0</th>\n",
       "      <td>64</td>\n",
       "      <td>32768</td>\n",
       "      <td>1</td>\n",
       "      <td>1</td>\n",
       "      <td>512</td>\n",
       "      <td>0</td>\n",
       "      <td>1953125</td>\n",
       "      <td>12</td>\n",
       "      <td>0.0</td>\n",
       "      <td>0</td>\n",
       "      <td>...</td>\n",
       "      <td>-73</td>\n",
       "      <td>-85</td>\n",
       "      <td>-96</td>\n",
       "      <td>-108</td>\n",
       "      <td>-112</td>\n",
       "      <td>-118</td>\n",
       "      <td>-122</td>\n",
       "      <td>-126</td>\n",
       "      <td>-130</td>\n",
       "      <td>-137</td>\n",
       "    </tr>\n",
       "    <tr>\n",
       "      <th>1</th>\n",
       "      <td>64</td>\n",
       "      <td>32768</td>\n",
       "      <td>1</td>\n",
       "      <td>1</td>\n",
       "      <td>512</td>\n",
       "      <td>0</td>\n",
       "      <td>1953125</td>\n",
       "      <td>12</td>\n",
       "      <td>0.0</td>\n",
       "      <td>0</td>\n",
       "      <td>...</td>\n",
       "      <td>71</td>\n",
       "      <td>72</td>\n",
       "      <td>75</td>\n",
       "      <td>75</td>\n",
       "      <td>74</td>\n",
       "      <td>73</td>\n",
       "      <td>72</td>\n",
       "      <td>60</td>\n",
       "      <td>53</td>\n",
       "      <td>50</td>\n",
       "    </tr>\n",
       "    <tr>\n",
       "      <th>2</th>\n",
       "      <td>64</td>\n",
       "      <td>32768</td>\n",
       "      <td>1</td>\n",
       "      <td>1</td>\n",
       "      <td>512</td>\n",
       "      <td>0</td>\n",
       "      <td>1953125</td>\n",
       "      <td>12</td>\n",
       "      <td>0.0</td>\n",
       "      <td>0</td>\n",
       "      <td>...</td>\n",
       "      <td>61</td>\n",
       "      <td>57</td>\n",
       "      <td>51</td>\n",
       "      <td>40</td>\n",
       "      <td>31</td>\n",
       "      <td>30</td>\n",
       "      <td>24</td>\n",
       "      <td>22</td>\n",
       "      <td>14</td>\n",
       "      <td>6</td>\n",
       "    </tr>\n",
       "    <tr>\n",
       "      <th>3</th>\n",
       "      <td>64</td>\n",
       "      <td>32768</td>\n",
       "      <td>1</td>\n",
       "      <td>1</td>\n",
       "      <td>512</td>\n",
       "      <td>0</td>\n",
       "      <td>1953125</td>\n",
       "      <td>12</td>\n",
       "      <td>0.0</td>\n",
       "      <td>0</td>\n",
       "      <td>...</td>\n",
       "      <td>47</td>\n",
       "      <td>55</td>\n",
       "      <td>60</td>\n",
       "      <td>62</td>\n",
       "      <td>68</td>\n",
       "      <td>72</td>\n",
       "      <td>75</td>\n",
       "      <td>75</td>\n",
       "      <td>77</td>\n",
       "      <td>75</td>\n",
       "    </tr>\n",
       "    <tr>\n",
       "      <th>4</th>\n",
       "      <td>64</td>\n",
       "      <td>32768</td>\n",
       "      <td>1</td>\n",
       "      <td>1</td>\n",
       "      <td>512</td>\n",
       "      <td>0</td>\n",
       "      <td>1953125</td>\n",
       "      <td>12</td>\n",
       "      <td>0.0</td>\n",
       "      <td>0</td>\n",
       "      <td>...</td>\n",
       "      <td>64</td>\n",
       "      <td>66</td>\n",
       "      <td>72</td>\n",
       "      <td>78</td>\n",
       "      <td>79</td>\n",
       "      <td>80</td>\n",
       "      <td>80</td>\n",
       "      <td>78</td>\n",
       "      <td>83</td>\n",
       "      <td>80</td>\n",
       "    </tr>\n",
       "    <tr>\n",
       "      <th>...</th>\n",
       "      <td>...</td>\n",
       "      <td>...</td>\n",
       "      <td>...</td>\n",
       "      <td>...</td>\n",
       "      <td>...</td>\n",
       "      <td>...</td>\n",
       "      <td>...</td>\n",
       "      <td>...</td>\n",
       "      <td>...</td>\n",
       "      <td>...</td>\n",
       "      <td>...</td>\n",
       "      <td>...</td>\n",
       "      <td>...</td>\n",
       "      <td>...</td>\n",
       "      <td>...</td>\n",
       "      <td>...</td>\n",
       "      <td>...</td>\n",
       "      <td>...</td>\n",
       "      <td>...</td>\n",
       "      <td>...</td>\n",
       "      <td>...</td>\n",
       "    </tr>\n",
       "    <tr>\n",
       "      <th>21015</th>\n",
       "      <td>64</td>\n",
       "      <td>32768</td>\n",
       "      <td>2</td>\n",
       "      <td>1</td>\n",
       "      <td>512</td>\n",
       "      <td>0</td>\n",
       "      <td>1953125</td>\n",
       "      <td>12</td>\n",
       "      <td>0.0</td>\n",
       "      <td>0</td>\n",
       "      <td>...</td>\n",
       "      <td>36</td>\n",
       "      <td>38</td>\n",
       "      <td>43</td>\n",
       "      <td>48</td>\n",
       "      <td>48</td>\n",
       "      <td>54</td>\n",
       "      <td>57</td>\n",
       "      <td>55</td>\n",
       "      <td>57</td>\n",
       "      <td>53</td>\n",
       "    </tr>\n",
       "    <tr>\n",
       "      <th>21016</th>\n",
       "      <td>64</td>\n",
       "      <td>32768</td>\n",
       "      <td>2</td>\n",
       "      <td>1</td>\n",
       "      <td>512</td>\n",
       "      <td>0</td>\n",
       "      <td>1953125</td>\n",
       "      <td>12</td>\n",
       "      <td>0.0</td>\n",
       "      <td>0</td>\n",
       "      <td>...</td>\n",
       "      <td>66</td>\n",
       "      <td>67</td>\n",
       "      <td>71</td>\n",
       "      <td>71</td>\n",
       "      <td>74</td>\n",
       "      <td>72</td>\n",
       "      <td>74</td>\n",
       "      <td>81</td>\n",
       "      <td>86</td>\n",
       "      <td>91</td>\n",
       "    </tr>\n",
       "    <tr>\n",
       "      <th>21017</th>\n",
       "      <td>64</td>\n",
       "      <td>32768</td>\n",
       "      <td>2</td>\n",
       "      <td>1</td>\n",
       "      <td>512</td>\n",
       "      <td>0</td>\n",
       "      <td>1953125</td>\n",
       "      <td>12</td>\n",
       "      <td>0.0</td>\n",
       "      <td>0</td>\n",
       "      <td>...</td>\n",
       "      <td>-24</td>\n",
       "      <td>-30</td>\n",
       "      <td>-33</td>\n",
       "      <td>-42</td>\n",
       "      <td>-48</td>\n",
       "      <td>-43</td>\n",
       "      <td>-39</td>\n",
       "      <td>-40</td>\n",
       "      <td>-38</td>\n",
       "      <td>-35</td>\n",
       "    </tr>\n",
       "    <tr>\n",
       "      <th>21018</th>\n",
       "      <td>64</td>\n",
       "      <td>32768</td>\n",
       "      <td>2</td>\n",
       "      <td>1</td>\n",
       "      <td>512</td>\n",
       "      <td>0</td>\n",
       "      <td>1953125</td>\n",
       "      <td>12</td>\n",
       "      <td>0.0</td>\n",
       "      <td>0</td>\n",
       "      <td>...</td>\n",
       "      <td>-18</td>\n",
       "      <td>-19</td>\n",
       "      <td>-21</td>\n",
       "      <td>-22</td>\n",
       "      <td>-29</td>\n",
       "      <td>-32</td>\n",
       "      <td>-35</td>\n",
       "      <td>-34</td>\n",
       "      <td>-35</td>\n",
       "      <td>-33</td>\n",
       "    </tr>\n",
       "    <tr>\n",
       "      <th>21019</th>\n",
       "      <td>64</td>\n",
       "      <td>32768</td>\n",
       "      <td>2</td>\n",
       "      <td>1</td>\n",
       "      <td>512</td>\n",
       "      <td>0</td>\n",
       "      <td>1953125</td>\n",
       "      <td>12</td>\n",
       "      <td>0.0</td>\n",
       "      <td>0</td>\n",
       "      <td>...</td>\n",
       "      <td>-8</td>\n",
       "      <td>-13</td>\n",
       "      <td>-19</td>\n",
       "      <td>-28</td>\n",
       "      <td>-30</td>\n",
       "      <td>-33</td>\n",
       "      <td>-37</td>\n",
       "      <td>-40</td>\n",
       "      <td>-41</td>\n",
       "      <td>-38</td>\n",
       "    </tr>\n",
       "  </tbody>\n",
       "</table>\n",
       "<p>21020 rows × 16400 columns</p>\n",
       "</div>"
      ],
      "text/plain": [
       "       0      1      2      3      4      5        6      7      8      9      \\\n",
       "0         64  32768      1      1    512      0  1953125     12    0.0      0   \n",
       "1         64  32768      1      1    512      0  1953125     12    0.0      0   \n",
       "2         64  32768      1      1    512      0  1953125     12    0.0      0   \n",
       "3         64  32768      1      1    512      0  1953125     12    0.0      0   \n",
       "4         64  32768      1      1    512      0  1953125     12    0.0      0   \n",
       "...      ...    ...    ...    ...    ...    ...      ...    ...    ...    ...   \n",
       "21015     64  32768      2      1    512      0  1953125     12    0.0      0   \n",
       "21016     64  32768      2      1    512      0  1953125     12    0.0      0   \n",
       "21017     64  32768      2      1    512      0  1953125     12    0.0      0   \n",
       "21018     64  32768      2      1    512      0  1953125     12    0.0      0   \n",
       "21019     64  32768      2      1    512      0  1953125     12    0.0      0   \n",
       "\n",
       "       ...  16390  16391  16392 16393  16394  16395  16396  16397  16398  \\\n",
       "0      ...    -73    -85    -96  -108   -112   -118   -122   -126   -130   \n",
       "1      ...     71     72     75    75     74     73     72     60     53   \n",
       "2      ...     61     57     51    40     31     30     24     22     14   \n",
       "3      ...     47     55     60    62     68     72     75     75     77   \n",
       "4      ...     64     66     72    78     79     80     80     78     83   \n",
       "...    ...    ...    ...    ...   ...    ...    ...    ...    ...    ...   \n",
       "21015  ...     36     38     43    48     48     54     57     55     57   \n",
       "21016  ...     66     67     71    71     74     72     74     81     86   \n",
       "21017  ...    -24    -30    -33   -42    -48    -43    -39    -40    -38   \n",
       "21018  ...    -18    -19    -21   -22    -29    -32    -35    -34    -35   \n",
       "21019  ...     -8    -13    -19   -28    -30    -33    -37    -40    -41   \n",
       "\n",
       "       16399  \n",
       "0       -137  \n",
       "1         50  \n",
       "2          6  \n",
       "3         75  \n",
       "4         80  \n",
       "...      ...  \n",
       "21015     53  \n",
       "21016     91  \n",
       "21017    -35  \n",
       "21018    -33  \n",
       "21019    -38  \n",
       "\n",
       "[21020 rows x 16400 columns]"
      ]
     },
     "execution_count": 6,
     "metadata": {},
     "output_type": "execute_result"
    }
   ],
   "source": [
    "# Combine all CSV data\n",
    "combined_df = pd.concat(dfs, ignore_index=True)\n",
    "combined_df"
   ]
  },
  {
   "cell_type": "code",
   "execution_count": 7,
   "id": "b2a1d489-3c06-4079-8df1-309d0c07f779",
   "metadata": {},
   "outputs": [
    {
     "data": {
      "text/plain": [
       "(21020, 16400)"
      ]
     },
     "execution_count": 7,
     "metadata": {},
     "output_type": "execute_result"
    }
   ],
   "source": [
    "combined_df.shape"
   ]
  },
  {
   "cell_type": "code",
   "execution_count": 8,
   "id": "a4787fa1-2389-410e-8635-29e601d986b4",
   "metadata": {},
   "outputs": [
    {
     "data": {
      "text/plain": [
       "array([[-143, -151, -154, ..., -126, -130, -137],\n",
       "       [  48,   43,   35, ...,   60,   53,   50],\n",
       "       [   0,  -11,  -18, ...,   22,   14,    6],\n",
       "       ...,\n",
       "       [ -35,  -31,  455, ...,  -40,  -38,  -35],\n",
       "       [ -34,  -33,  -32, ...,  -34,  -35,  -33],\n",
       "       [ -38,  -38,  -32, ...,  -40,  -41,  -38]], shape=(21020, 16384))"
      ]
     },
     "execution_count": 8,
     "metadata": {},
     "output_type": "execute_result"
    }
   ],
   "source": [
    "adc_data = combined_df.iloc[:, 16:].values  # Extract ADC values (skip metadata columns)\n",
    "adc_data\n",
    "#print(f\"Loaded data shape: {adc_data.shape}\")  # Shape should be (num_samples, num_features)\n"
   ]
  },
  {
   "cell_type": "code",
   "execution_count": 9,
   "id": "ce1542b4-1438-43ea-a0eb-9aede56c29ca",
   "metadata": {},
   "outputs": [
    {
     "data": {
      "text/plain": [
       "array([[-132.74689627, -145.85522471, -160.06537177, ..., -117.88340709,\n",
       "        -122.44036243, -126.49033501],\n",
       "       [  73.44538652,  103.07026798,  131.74795661, ...,   65.30978057,\n",
       "          65.15603004,   64.87030029],\n",
       "       [  27.63206319,   28.35382623,   27.51109601, ...,   27.37586412,\n",
       "          24.04507053,   21.00643651],\n",
       "       ...,\n",
       "       [   9.86718195,   63.68219463,  115.04259008, ...,  -37.16488889,\n",
       "         -38.83196025,  -40.21943291],\n",
       "       [   9.02658058,   59.95461375,  108.69606039, ...,  -32.65593513,\n",
       "         -34.49163914,  -36.04805996],\n",
       "       [  -6.80646151,   45.17728878,   95.68255806, ...,  -33.02839371,\n",
       "         -35.66353542,  -37.94289152]], shape=(21020, 16384))"
      ]
     },
     "execution_count": 9,
     "metadata": {},
     "output_type": "execute_result"
    }
   ],
   "source": [
    "from scipy.signal import butter, filtfilt\n",
    "\n",
    "def butter_lowpass_filter(signal, cutoff=30e3, fs=1e6, order=5):\n",
    "    nyquist = 0.5 * fs\n",
    "    normal_cutoff = cutoff / nyquist\n",
    "    b, a = butter(order, normal_cutoff, btype='low', analog=False)\n",
    "    return filtfilt(b, a, signal)\n",
    "\n",
    "filtered_data = np.array([butter_lowpass_filter(row) for row in adc_data])\n",
    "filtered_data"
   ]
  },
  {
   "cell_type": "code",
   "execution_count": 10,
   "id": "b5ddd741-b851-4fd8-bfbd-ef178c623b88",
   "metadata": {},
   "outputs": [
    {
     "name": "stdout",
     "output_type": "stream",
     "text": [
      "SNR After Fixing: 25.88 dB\n"
     ]
    }
   ],
   "source": [
    "def calculate_snr(signal, noise):\n",
    "    power_signal = np.mean(signal ** 2)\n",
    "    power_noise = np.mean(noise ** 2)\n",
    "    return 10 * np.log10(power_signal / power_noise)\n",
    "\n",
    "snr_after = calculate_snr(filtered_data, adc_data - filtered_data)\n",
    "print(f\"SNR After Fixing: {snr_after:.2f} dB\")"
   ]
  },
  {
   "cell_type": "code",
   "execution_count": null,
   "id": "5f2f6177-4e3a-4d2e-81fd-e27416ce7345",
   "metadata": {},
   "outputs": [],
   "source": []
  },
  {
   "cell_type": "code",
   "execution_count": 11,
   "id": "3afc8fc3",
   "metadata": {},
   "outputs": [
    {
     "data": {
      "text/plain": [
       "array([2.24444354, 9.48600922, 6.41883804, ..., 6.13854747, 6.29873005,\n",
       "       5.59572588], shape=(21020,))"
      ]
     },
     "execution_count": 11,
     "metadata": {},
     "output_type": "execute_result"
    }
   ],
   "source": [
    "# Select from the 17th column to the end\n",
    "adc_data_selected_columns = filtered_data.mean(axis=1)  # Python uses 0-based indexing\n",
    "adc_data_selected_columns"
   ]
  },
  {
   "cell_type": "markdown",
   "id": "d09beabf",
   "metadata": {},
   "source": [
    "# ADC to FFT Conversion"
   ]
  },
  {
   "cell_type": "code",
   "execution_count": 12,
   "id": "a453a726-82fd-49c9-94e0-d4e3ecdbefa9",
   "metadata": {},
   "outputs": [
    {
     "data": {
      "text/html": [
       "<div>\n",
       "<style scoped>\n",
       "    .dataframe tbody tr th:only-of-type {\n",
       "        vertical-align: middle;\n",
       "    }\n",
       "\n",
       "    .dataframe tbody tr th {\n",
       "        vertical-align: top;\n",
       "    }\n",
       "\n",
       "    .dataframe thead th {\n",
       "        text-align: right;\n",
       "    }\n",
       "</style>\n",
       "<table border=\"1\" class=\"dataframe\">\n",
       "  <thead>\n",
       "    <tr style=\"text-align: right;\">\n",
       "      <th></th>\n",
       "      <th>Frequency</th>\n",
       "      <th>FFT Magnitude</th>\n",
       "      <th>Phase</th>\n",
       "    </tr>\n",
       "  </thead>\n",
       "  <tbody>\n",
       "    <tr>\n",
       "      <th>0</th>\n",
       "      <td>0.000000</td>\n",
       "      <td>85482.192762</td>\n",
       "      <td>2.659895e-18</td>\n",
       "    </tr>\n",
       "    <tr>\n",
       "      <th>1</th>\n",
       "      <td>92.917460</td>\n",
       "      <td>40258.220857</td>\n",
       "      <td>-3.125651e+00</td>\n",
       "    </tr>\n",
       "    <tr>\n",
       "      <th>2</th>\n",
       "      <td>185.834919</td>\n",
       "      <td>5221.175683</td>\n",
       "      <td>2.865319e+00</td>\n",
       "    </tr>\n",
       "    <tr>\n",
       "      <th>3</th>\n",
       "      <td>278.752379</td>\n",
       "      <td>3160.342162</td>\n",
       "      <td>-3.600372e-01</td>\n",
       "    </tr>\n",
       "    <tr>\n",
       "      <th>4</th>\n",
       "      <td>371.669838</td>\n",
       "      <td>110.182115</td>\n",
       "      <td>-4.779431e-01</td>\n",
       "    </tr>\n",
       "  </tbody>\n",
       "</table>\n",
       "</div>"
      ],
      "text/plain": [
       "    Frequency  FFT Magnitude         Phase\n",
       "0    0.000000   85482.192762  2.659895e-18\n",
       "1   92.917460   40258.220857 -3.125651e+00\n",
       "2  185.834919    5221.175683  2.865319e+00\n",
       "3  278.752379    3160.342162 -3.600372e-01\n",
       "4  371.669838     110.182115 -4.779431e-01"
      ]
     },
     "execution_count": 12,
     "metadata": {},
     "output_type": "execute_result"
    }
   ],
   "source": [
    "# Assuming `adc_data` is your pandas Series with ADC data\n",
    "adc_array = adc_data_selected_columns # Convert the pandas Series to a numpy array\n",
    "\n",
    "# Choose a window function - Hanning window in this case\n",
    "window = np.hanning(len(adc_array))\n",
    "\n",
    "# Apply the window function to your data\n",
    "windowed_adc_data = adc_array * window\n",
    "\n",
    "# Perform FFT on the windowed data\n",
    "fft_result = np.fft.fft(windowed_adc_data)\n",
    "\n",
    "# Frequency bins (assuming you know the sampling rate)\n",
    "sampling_rate = 1953125  # Example: 1000 Hz, replace with your actual sampling rate\n",
    "min_freq = 35000  # 35 kHz\n",
    "max_freq = 45000  # 45 kHz\n",
    "\n",
    "n = len(adc_array)\n",
    "freq = np.fft.fftfreq(n, d=1/sampling_rate)\n",
    "# Calculate the magnitude and phase of the FFT result\n",
    "magnitude = np.abs(fft_result)\n",
    "phase = np.angle(fft_result)\n",
    "\n",
    "# Filter frequencies within 35kHz - 45kHz\n",
    "#valid_indices = (freq >= min_freq) & (freq <= max_freq)\n",
    "#filtered_freqs = freq[valid_indices]\n",
    "#filtered_magnitudes = magnitude[valid_indices]\n",
    "#filtered_phase = phase[valid_indices]\n",
    "\n",
    "# Create a DataFrame\n",
    "fft_df = pd.DataFrame({\n",
    "    'Frequency': freq,\n",
    "    'FFT Magnitude': magnitude,\n",
    "    'Phase': phase\n",
    "})\n",
    "\n",
    "\n",
    "fft_df.head()  # Display the first few rows of the DataFrame"
   ]
  },
  {
   "cell_type": "code",
   "execution_count": null,
   "id": "7e161398",
   "metadata": {},
   "outputs": [
    {
     "data": {
      "text/html": [
       "<div>\n",
       "<style scoped>\n",
       "    .dataframe tbody tr th:only-of-type {\n",
       "        vertical-align: middle;\n",
       "    }\n",
       "\n",
       "    .dataframe tbody tr th {\n",
       "        vertical-align: top;\n",
       "    }\n",
       "\n",
       "    .dataframe thead th {\n",
       "        text-align: right;\n",
       "    }\n",
       "</style>\n",
       "<table border=\"1\" class=\"dataframe\">\n",
       "  <thead>\n",
       "    <tr style=\"text-align: right;\">\n",
       "      <th></th>\n",
       "      <th>Frequency</th>\n",
       "      <th>FFT Magnitude</th>\n",
       "      <th>Phase</th>\n",
       "      <th>Infant_Presence</th>\n",
       "    </tr>\n",
       "  </thead>\n",
       "  <tbody>\n",
       "    <tr>\n",
       "      <th>0</th>\n",
       "      <td>0.000000</td>\n",
       "      <td>85482.192762</td>\n",
       "      <td>2.659895e-18</td>\n",
       "      <td>1</td>\n",
       "    </tr>\n",
       "    <tr>\n",
       "      <th>1</th>\n",
       "      <td>92.917460</td>\n",
       "      <td>40258.220857</td>\n",
       "      <td>-3.125651e+00</td>\n",
       "      <td>1</td>\n",
       "    </tr>\n",
       "    <tr>\n",
       "      <th>2</th>\n",
       "      <td>185.834919</td>\n",
       "      <td>5221.175683</td>\n",
       "      <td>2.865319e+00</td>\n",
       "      <td>1</td>\n",
       "    </tr>\n",
       "    <tr>\n",
       "      <th>3</th>\n",
       "      <td>278.752379</td>\n",
       "      <td>3160.342162</td>\n",
       "      <td>-3.600372e-01</td>\n",
       "      <td>1</td>\n",
       "    </tr>\n",
       "    <tr>\n",
       "      <th>4</th>\n",
       "      <td>371.669838</td>\n",
       "      <td>110.182115</td>\n",
       "      <td>-4.779431e-01</td>\n",
       "      <td>1</td>\n",
       "    </tr>\n",
       "  </tbody>\n",
       "</table>\n",
       "</div>"
      ],
      "text/plain": [
       "    Frequency  FFT Magnitude         Phase  Infant_Presence\n",
       "0    0.000000   85482.192762  2.659895e-18                1\n",
       "1   92.917460   40258.220857 -3.125651e+00                1\n",
       "2  185.834919    5221.175683  2.865319e+00                1\n",
       "3  278.752379    3160.342162 -3.600372e-01                1\n",
       "4  371.669838     110.182115 -4.779431e-01                1"
      ]
     },
     "execution_count": 13,
     "metadata": {},
     "output_type": "execute_result"
    }
   ],
   "source": [
    "# Add a new column to the fft_magnitude DataFrame for the binary label\n",
    "# Set the value to 1 for presence of an infant with a carriage\n",
    "#For Withbaby vs Withoutbaby\n",
    "#fft_df['Infant_Presence'] = 1 # 1 for presence, 0 for absence \n",
    "fft_df[label_column_name] = label_value\n",
    "# Display the first few rows to verify the new column\n",
    "fft_df.head()"
   ]
  },
  {
   "cell_type": "code",
   "execution_count": 14,
   "id": "2377bc1c",
   "metadata": {},
   "outputs": [
    {
     "data": {
      "text/plain": [
       "21020"
      ]
     },
     "execution_count": 14,
     "metadata": {},
     "output_type": "execute_result"
    }
   ],
   "source": [
    "len(fft_df)"
   ]
  },
  {
   "cell_type": "code",
   "execution_count": 15,
   "id": "155ea4ec",
   "metadata": {},
   "outputs": [
    {
     "data": {
      "text/html": [
       "<div>\n",
       "<style scoped>\n",
       "    .dataframe tbody tr th:only-of-type {\n",
       "        vertical-align: middle;\n",
       "    }\n",
       "\n",
       "    .dataframe tbody tr th {\n",
       "        vertical-align: top;\n",
       "    }\n",
       "\n",
       "    .dataframe thead th {\n",
       "        text-align: right;\n",
       "    }\n",
       "</style>\n",
       "<table border=\"1\" class=\"dataframe\">\n",
       "  <thead>\n",
       "    <tr style=\"text-align: right;\">\n",
       "      <th></th>\n",
       "      <th>Frequency</th>\n",
       "      <th>FFT Magnitude</th>\n",
       "      <th>Phase</th>\n",
       "      <th>Infant_Presence</th>\n",
       "    </tr>\n",
       "  </thead>\n",
       "  <tbody>\n",
       "    <tr>\n",
       "      <th>21015</th>\n",
       "      <td>-464.587298</td>\n",
       "      <td>862.049715</td>\n",
       "      <td>2.715918</td>\n",
       "      <td>1</td>\n",
       "    </tr>\n",
       "    <tr>\n",
       "      <th>21016</th>\n",
       "      <td>-371.669838</td>\n",
       "      <td>110.182115</td>\n",
       "      <td>0.477943</td>\n",
       "      <td>1</td>\n",
       "    </tr>\n",
       "    <tr>\n",
       "      <th>21017</th>\n",
       "      <td>-278.752379</td>\n",
       "      <td>3160.342162</td>\n",
       "      <td>0.360037</td>\n",
       "      <td>1</td>\n",
       "    </tr>\n",
       "    <tr>\n",
       "      <th>21018</th>\n",
       "      <td>-185.834919</td>\n",
       "      <td>5221.175683</td>\n",
       "      <td>-2.865319</td>\n",
       "      <td>1</td>\n",
       "    </tr>\n",
       "    <tr>\n",
       "      <th>21019</th>\n",
       "      <td>-92.917460</td>\n",
       "      <td>40258.220857</td>\n",
       "      <td>3.125651</td>\n",
       "      <td>1</td>\n",
       "    </tr>\n",
       "  </tbody>\n",
       "</table>\n",
       "</div>"
      ],
      "text/plain": [
       "        Frequency  FFT Magnitude     Phase  Infant_Presence\n",
       "21015 -464.587298     862.049715  2.715918                1\n",
       "21016 -371.669838     110.182115  0.477943                1\n",
       "21017 -278.752379    3160.342162  0.360037                1\n",
       "21018 -185.834919    5221.175683 -2.865319                1\n",
       "21019  -92.917460   40258.220857  3.125651                1"
      ]
     },
     "execution_count": 15,
     "metadata": {},
     "output_type": "execute_result"
    }
   ],
   "source": [
    "fft_df.tail()"
   ]
  },
  {
   "cell_type": "code",
   "execution_count": 16,
   "id": "4d6d2c1c",
   "metadata": {},
   "outputs": [
    {
     "data": {
      "image/png": "[encoded data removed]",
      "text/plain": [
       "<Figure size 1000x600 with 1 Axes>"
      ]
     },
     "metadata": {},
     "output_type": "display_data"
    }
   ],
   "source": [
    "plt.figure(figsize=(10, 6))  # Set the figure size for better readability\n",
    "plt.plot(fft_df['Frequency'], fft_df['FFT Magnitude'])  # Plot positive frequency vs magnitude\n",
    "plt.title('Magnitude Spectrum')  # Title of the plot\n",
    "plt.xlabel('Frequency (Hz)')  # Label for the x-axis\n",
    "plt.ylabel('Magnitude')  # Label for the y-axis\n",
    "plt.grid(True)  # Show grid for better readability\n",
    "plt.show()  # Display the plot"
   ]
  },
  {
   "cell_type": "markdown",
   "id": "11ad87f4",
   "metadata": {},
   "source": [
    "# Saving as Numpy Array"
   ]
  },
  {
   "cell_type": "code",
   "execution_count": null,
   "id": "4d9f02df",
   "metadata": {},
   "outputs": [
    {
     "name": "stdout",
     "output_type": "stream",
     "text": [
      "Old file removed: ../../Data/Processed/Withbaby_npy_array_Lowpassfiltered.npy\n",
      "New file saved at: /Users/mandarkale/Documents/MyProjects/MachineLearning/FIUS_Based_Infant_Presence_Detection_in_Car_Seats/source_code/Data/Processed/Withbaby_npy_array_Lowpassfiltered.npy\n"
     ]
    }
   ],
   "source": [
    "numpy_array = fft_df.to_numpy()\n",
    "# Save the array to a file\n",
    "#np.save('demo_4.npy', numpy_array)\n",
    "\n",
    "# Define save path (2 levels up → Data/Processed/)\n",
    "project_root = \"/Users/mandarkale/Documents/MyProjects/MachineLearning/FIUS_Based_Infant_Presence_Detection_in_Car_Seats/source_code\"\n",
    "save_path = os.path.join(project_root, \"Data\", \"Processed\", \"Withbaby_npy_array_Lowpassfiltered.npy\")\n",
    "\n",
    "\n",
    "# If file already exists, remove it\n",
    "if os.path.exists(save_path):\n",
    "    os.remove(save_path)\n",
    "    print(f\"Old file removed: {save_path}\")\n",
    "\n",
    "# Save the array to that location\n",
    "np.save(save_path, numpy_array)\n",
    "\n",
    "print(f\"New file saved at: {os.path.abspath(save_path)}\")\n"
   ]
  },
  {
   "cell_type": "code",
   "execution_count": 18,
   "id": "a0b07407",
   "metadata": {},
   "outputs": [
    {
     "data": {
      "text/plain": [
       "3311"
      ]
     },
     "execution_count": 18,
     "metadata": {},
     "output_type": "execute_result"
    }
   ],
   "source": [
    "import gc\n",
    "gc.collect()"
   ]
  },
  {
   "cell_type": "code",
   "execution_count": 19,
   "id": "b45e7143-f8e9-4564-ab26-704a990f1b1f",
   "metadata": {},
   "outputs": [],
   "source": [
    "%reset -f"
   ]
  },
  {
   "cell_type": "code",
   "execution_count": null,
   "id": "b1fddc1a-e564-4a1d-899f-9cf3f258d6a6",
   "metadata": {},
   "outputs": [],
   "source": []
  },
  {
   "cell_type": "code",
   "execution_count": null,
   "id": "317672c6-1faf-48b2-ad36-9a54fb345a69",
   "metadata": {},
   "outputs": [],
   "source": []
  }
 ],
 "metadata": {
  "kernelspec": {
   "display_name": "Python 3 (ipykernel)",
   "language": "python",
   "name": "python3"
  },
  "language_info": {
   "codemirror_mode": {
    "name": "ipython",
    "version": 3
   },
   "file_extension": ".py",
   "mimetype": "text/x-python",
   "name": "python",
   "nbconvert_exporter": "python",
   "pygments_lexer": "ipython3",
   "version": "3.12.5"
  }
 },
 "nbformat": 4,
 "nbformat_minor": 5
}
