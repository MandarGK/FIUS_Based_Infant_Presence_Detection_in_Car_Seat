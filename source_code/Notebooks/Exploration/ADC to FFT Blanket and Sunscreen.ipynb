{
 "cells": [
  {
   "cell_type": "code",
   "execution_count": 1,
   "id": "9f6d9c50",
   "metadata": {},
   "outputs": [
    {
     "data": {
      "text/plain": [
       "'ADC to FFT withbaby - Blanket and Sunscreen'"
      ]
     },
     "execution_count": 1,
     "metadata": {},
     "output_type": "execute_result"
    }
   ],
   "source": [
    "'ADC to FFT withbaby - Blanket and Sunscreen'\n"
   ]
  },
  {
   "cell_type": "markdown",
   "id": "30753c62",
   "metadata": {},
   "source": [
    "# Loading the data"
   ]
  },
  {
   "cell_type": "code",
   "execution_count": 2,
   "id": "82db8ee2-0f59-40ce-bed2-84b360f756d3",
   "metadata": {},
   "outputs": [
    {
     "data": {
      "text/plain": [
       "3"
      ]
     },
     "execution_count": 2,
     "metadata": {},
     "output_type": "execute_result"
    }
   ],
   "source": [
    "import gc\n",
    "gc.collect()"
   ]
  },
  {
   "cell_type": "code",
   "execution_count": 3,
   "id": "7fbba695-3cf6-44ac-bbe2-3d0d4bc45343",
   "metadata": {},
   "outputs": [],
   "source": [
    "%reset -f"
   ]
  },
  {
   "cell_type": "code",
   "execution_count": null,
   "id": "22fc20b1-f998-46c2-be2c-bdbfeb6771e2",
   "metadata": {},
   "outputs": [],
   "source": []
  },
  {
   "cell_type": "code",
   "execution_count": 4,
   "id": "2fe107f7",
   "metadata": {},
   "outputs": [],
   "source": [
    "import numpy as np\n",
    "import pandas as pd\n",
    "import os\n",
    "import matplotlib.pyplot as plt"
   ]
  },
  {
   "cell_type": "code",
   "execution_count": 5,
   "id": "74af7b7f-a27d-4630-9b1b-8269d16e9266",
   "metadata": {},
   "outputs": [
    {
     "ename": "FileNotFoundError",
     "evalue": "[Errno 2] No such file or directory: 'D:\\\\AIS & ML\\\\Dataset_Input _Final\\\\BlanketandSunscreen'",
     "output_type": "error",
     "traceback": [
      "\u001b[31m---------------------------------------------------------------------------\u001b[39m",
      "\u001b[31mFileNotFoundError\u001b[39m                         Traceback (most recent call last)",
      "\u001b[36mCell\u001b[39m\u001b[36m \u001b[39m\u001b[32mIn[5]\u001b[39m\u001b[32m, line 5\u001b[39m\n\u001b[32m      2\u001b[39m data_dir = \u001b[33mr\u001b[39m\u001b[33m\"\u001b[39m\u001b[33mD:\u001b[39m\u001b[33m\\\u001b[39m\u001b[33mAIS & ML\u001b[39m\u001b[33m\\\u001b[39m\u001b[33mDataset_Input _Final\u001b[39m\u001b[33m\\\u001b[39m\u001b[33mBlanketandSunscreen\u001b[39m\u001b[33m\"\u001b[39m\n\u001b[32m      4\u001b[39m \u001b[38;5;66;03m# Load all CSV files\u001b[39;00m\n\u001b[32m----> \u001b[39m\u001b[32m5\u001b[39m csv_files = [os.path.join(data_dir, f) \u001b[38;5;28;01mfor\u001b[39;00m f \u001b[38;5;129;01min\u001b[39;00m \u001b[43mos\u001b[49m\u001b[43m.\u001b[49m\u001b[43mlistdir\u001b[49m\u001b[43m(\u001b[49m\u001b[43mdata_dir\u001b[49m\u001b[43m)\u001b[49m \u001b[38;5;28;01mif\u001b[39;00m f.endswith(\u001b[33m'\u001b[39m\u001b[33m.csv\u001b[39m\u001b[33m'\u001b[39m)]\n\u001b[32m      6\u001b[39m dfs = [pd.read_csv(file, header=\u001b[38;5;28;01mNone\u001b[39;00m) \u001b[38;5;28;01mfor\u001b[39;00m file \u001b[38;5;129;01min\u001b[39;00m csv_files]\n",
      "\u001b[31mFileNotFoundError\u001b[39m: [Errno 2] No such file or directory: 'D:\\\\AIS & ML\\\\Dataset_Input _Final\\\\BlanketandSunscreen'"
     ]
    }
   ],
   "source": [
    "# Set directory containing CSV files\n",
    "data_dir = r\"D:\\AIS & ML\\Dataset_Input _Final\\BlanketandSunscreen\"\n",
    "\n",
    "# Load all CSV files\n",
    "csv_files = [os.path.join(data_dir, f) for f in os.listdir(data_dir) if f.endswith('.csv')]\n",
    "dfs = [pd.read_csv(file, header=None) for file in csv_files]\n"
   ]
  },
  {
   "cell_type": "code",
   "execution_count": null,
   "id": "7b9389f8-98eb-481b-9df4-0eeddee5cf63",
   "metadata": {},
   "outputs": [],
   "source": [
    "# Combine all CSV data\n",
    "combined_df = pd.concat(dfs, ignore_index=True)\n",
    "combined_df"
   ]
  },
  {
   "cell_type": "code",
   "execution_count": null,
   "id": "b2a1d489-3c06-4079-8df1-309d0c07f779",
   "metadata": {},
   "outputs": [],
   "source": [
    "combined_df.shape"
   ]
  },
  {
   "cell_type": "code",
   "execution_count": null,
   "id": "a4787fa1-2389-410e-8635-29e601d986b4",
   "metadata": {},
   "outputs": [],
   "source": [
    "adc_data = combined_df.iloc[:, 16:].values  # Extract ADC values (skip metadata columns)\n",
    "adc_data\n",
    "#print(f\"Loaded data shape: {adc_data.shape}\")  # Shape should be (num_samples, num_features)\n"
   ]
  },
  {
   "cell_type": "code",
   "execution_count": null,
   "id": "ce1542b4-1438-43ea-a0eb-9aede56c29ca",
   "metadata": {},
   "outputs": [],
   "source": [
    "from scipy.signal import butter, filtfilt\n",
    "\n",
    "def butter_lowpass_filter(signal, cutoff=30e3, fs=1e6, order=5):\n",
    "    nyquist = 0.5 * fs\n",
    "    normal_cutoff = cutoff / nyquist\n",
    "    b, a = butter(order, normal_cutoff, btype='low', analog=False)\n",
    "    return filtfilt(b, a, signal)\n",
    "\n",
    "filtered_data = np.array([butter_lowpass_filter(row) for row in adc_data])\n",
    "filtered_data"
   ]
  },
  {
   "cell_type": "code",
   "execution_count": null,
   "id": "b5ddd741-b851-4fd8-bfbd-ef178c623b88",
   "metadata": {},
   "outputs": [],
   "source": [
    "def calculate_snr(signal, noise):\n",
    "    power_signal = np.mean(signal ** 2)\n",
    "    power_noise = np.mean(noise ** 2)\n",
    "    return 10 * np.log10(power_signal / power_noise)\n",
    "\n",
    "snr_after = calculate_snr(filtered_data, adc_data - filtered_data)\n",
    "print(f\"SNR After Fixing: {snr_after:.2f} dB\")"
   ]
  },
  {
   "cell_type": "code",
   "execution_count": null,
   "id": "5f2f6177-4e3a-4d2e-81fd-e27416ce7345",
   "metadata": {},
   "outputs": [],
   "source": []
  },
  {
   "cell_type": "code",
   "execution_count": null,
   "id": "3afc8fc3",
   "metadata": {},
   "outputs": [],
   "source": [
    "# Select from the 17th column to the end\n",
    "adc_data_selected_columns = filtered_data.mean(axis=1)  # Python uses 0-based indexing\n",
    "adc_data_selected_columns"
   ]
  },
  {
   "cell_type": "markdown",
   "id": "d09beabf",
   "metadata": {},
   "source": [
    "# ADC to FFT Conversion"
   ]
  },
  {
   "cell_type": "code",
   "execution_count": null,
   "id": "a453a726-82fd-49c9-94e0-d4e3ecdbefa9",
   "metadata": {},
   "outputs": [],
   "source": [
    "# Convert the pandas Series to a numpy array\n",
    "adc_array = adc_data_selected_columns \n",
    "\n",
    "# Choose a window function - Hanning window in this case\n",
    "window = np.hanning(len(adc_array))\n",
    "\n",
    "# Apply the window function to your data\n",
    "windowed_adc_data = adc_array * window\n",
    "\n",
    "# Perform FFT on the windowed data\n",
    "fft_result = np.fft.fft(windowed_adc_data)\n",
    "\n",
    "# Frequency bins (assuming you know the sampling rate)\n",
    "sampling_rate = 1953125  # Example: 1000 Hz, replace with your actual sampling rate\n",
    "min_freq = 35000  # 35 kHz\n",
    "max_freq = 45000  # 45 kHz\n",
    "\n",
    "n = len(adc_array)\n",
    "freq = np.fft.fftfreq(n, d=1/sampling_rate)\n",
    "# Calculate the magnitude and phase of the FFT result\n",
    "magnitude = np.abs(fft_result)\n",
    "phase = np.angle(fft_result)\n",
    "\n",
    "# Create a DataFrame\n",
    "fft_df = pd.DataFrame({\n",
    "    'Frequency': freq,\n",
    "    'FFT Magnitude': magnitude,\n",
    "    'Phase': phase\n",
    "})\n",
    "\n",
    "\n",
    "fft_df.head()  # Display the first few rows of the DataFrame"
   ]
  },
  {
   "cell_type": "code",
   "execution_count": null,
   "id": "7e161398",
   "metadata": {},
   "outputs": [],
   "source": [
    "# Add a new column to the fft_magnitude DataFrame for the binary label\n",
    "# Set the value to 1 for presence of an infant with a carriage\n",
    "fft_df['Infant_Presence'] = 1 # 1 for presence, 0 for absence (if you have such data)\n",
    "\n",
    "# Display the first few rows to verify the new column\n",
    "fft_df.head()"
   ]
  },
  {
   "cell_type": "code",
   "execution_count": null,
   "id": "2377bc1c",
   "metadata": {},
   "outputs": [],
   "source": [
    "len(fft_df)"
   ]
  },
  {
   "cell_type": "code",
   "execution_count": null,
   "id": "155ea4ec",
   "metadata": {},
   "outputs": [],
   "source": [
    "fft_df"
   ]
  },
  {
   "cell_type": "code",
   "execution_count": null,
   "id": "4d6d2c1c",
   "metadata": {},
   "outputs": [],
   "source": [
    "plt.figure(figsize=(10, 6))  # Set the figure size for better readability\n",
    "plt.plot(fft_df['Frequency'], fft_df['FFT Magnitude'])  # Plot positive frequency vs magnitude\n",
    "plt.title('Magnitude Spectrum')  # Title of the plot\n",
    "plt.xlabel('Frequency (Hz)')  # Label for the x-axis\n",
    "plt.ylabel('Magnitude')  # Label for the y-axis\n",
    "plt.grid(True)  # Show grid for better readability\n",
    "plt.show()  # Display the plot"
   ]
  },
  {
   "cell_type": "markdown",
   "id": "11ad87f4",
   "metadata": {},
   "source": [
    "# Saving to numpy array"
   ]
  },
  {
   "cell_type": "code",
   "execution_count": null,
   "id": "4d9f02df",
   "metadata": {},
   "outputs": [],
   "source": [
    "numpy_array = fft_df.to_numpy()\n",
    "# Save the array to a file\n",
    "np.save('BabyCovered_with_Blanket_or_Sunscreen_npy_array_Lowpassfiltered_label.npy', numpy_array)"
   ]
  },
  {
   "cell_type": "code",
   "execution_count": null,
   "id": "a0b07407",
   "metadata": {},
   "outputs": [],
   "source": [
    "import gc\n",
    "gc.collect()"
   ]
  },
  {
   "cell_type": "code",
   "execution_count": null,
   "id": "b45e7143-f8e9-4564-ab26-704a990f1b1f",
   "metadata": {},
   "outputs": [],
   "source": [
    "%reset -f"
   ]
  },
  {
   "cell_type": "code",
   "execution_count": null,
   "id": "b1fddc1a-e564-4a1d-899f-9cf3f258d6a6",
   "metadata": {},
   "outputs": [],
   "source": []
  },
  {
   "cell_type": "code",
   "execution_count": null,
   "id": "317672c6-1faf-48b2-ad36-9a54fb345a69",
   "metadata": {},
   "outputs": [],
   "source": []
  },
  {
   "cell_type": "code",
   "execution_count": null,
   "id": "1c39296e-786e-4a71-b851-489ff8976f95",
   "metadata": {},
   "outputs": [],
   "source": []
  }
 ],
 "metadata": {
  "kernelspec": {
   "display_name": "Python 3 (ipykernel)",
   "language": "python",
   "name": "python3"
  },
  "language_info": {
   "codemirror_mode": {
    "name": "ipython",
    "version": 3
   },
   "file_extension": ".py",
   "mimetype": "text/x-python",
   "name": "python",
   "nbconvert_exporter": "python",
   "pygments_lexer": "ipython3",
   "version": "3.12.5"
  }
 },
 "nbformat": 4,
 "nbformat_minor": 5
}
