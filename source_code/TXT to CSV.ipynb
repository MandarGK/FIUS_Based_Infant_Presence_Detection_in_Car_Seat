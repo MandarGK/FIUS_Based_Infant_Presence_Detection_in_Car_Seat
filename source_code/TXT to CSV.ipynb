{
 "cells": [
  {
   "cell_type": "code",
   "execution_count": 9,
   "metadata": {},
   "outputs": [
    {
     "name": "stdout",
     "output_type": "stream",
     "text": [
      "Converted adc_Realtime_testing_demo_4_.txt to D:\\AIS & ML\\realtime testing\\testbaby\\adc_Realtime_testing_demo_4_.csv\n",
      "All files have been converted.\n"
     ]
    }
   ],
   "source": [
    "import os\n",
    "import csv\n",
    "\n",
    "# Folder path containing the .txt files\n",
    "folder_path = r\"D:\\AIS & ML\\realtime testing\\testbaby\"  # Update this with your actual folder path\n",
    "\n",
    "# Get a list of all .txt files in the folder\n",
    "txt_files = [f for f in os.listdir(folder_path) if f.endswith(\".txt\")]\n",
    "\n",
    "# Process each .txt file\n",
    "for txt_file in txt_files:\n",
    "    input_file = os.path.join(folder_path, txt_file)\n",
    "    output_file = os.path.join(folder_path, txt_file.replace(\".txt\", \".csv\"))\n",
    "\n",
    "    # Read the text file\n",
    "    with open(input_file, 'r') as file:\n",
    "        lines = file.readlines()\n",
    "\n",
    "    # Process the lines\n",
    "    data = [line.strip().split() for line in lines]  # Adjust delimiter if necessary\n",
    "\n",
    "    # Write to a CSV file\n",
    "    with open(output_file, 'w', newline='') as csvfile:\n",
    "        writer = csv.writer(csvfile)\n",
    "        writer.writerows(data)\n",
    "\n",
    "    print(f\"Converted {txt_file} to {output_file}\")\n",
    "\n",
    "print(\"All files have been converted.\")\n"
   ]
  },
  {
   "cell_type": "code",
   "execution_count": null,
   "metadata": {},
   "outputs": [],
   "source": []
  }
 ],
 "metadata": {
  "kernelspec": {
   "display_name": "Python 3 (ipykernel)",
   "language": "python",
   "name": "python3"
  },
  "language_info": {
   "codemirror_mode": {
    "name": "ipython",
    "version": 3
   },
   "file_extension": ".py",
   "mimetype": "text/x-python",
   "name": "python",
   "nbconvert_exporter": "python",
   "pygments_lexer": "ipython3",
   "version": "3.12.7"
  }
 },
 "nbformat": 4,
 "nbformat_minor": 4
}
