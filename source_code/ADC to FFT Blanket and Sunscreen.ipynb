{
 "cells": [
  {
   "cell_type": "code",
   "execution_count": 1,
   "id": "9f6d9c50",
   "metadata": {},
   "outputs": [
    {
     "data": {
      "text/plain": [
       "'ADC to FFT withbaby - Blanket and Sunscreen'"
      ]
     },
     "execution_count": 1,
     "metadata": {},
     "output_type": "execute_result"
    }
   ],
   "source": [
    "'ADC to FFT withbaby - Blanket and Sunscreen'\n"
   ]
  },
  {
   "cell_type": "markdown",
   "id": "30753c62",
   "metadata": {},
   "source": [
    "# Loading the data"
   ]
  },
  {
   "cell_type": "code",
   "execution_count": 4,
   "id": "82db8ee2-0f59-40ce-bed2-84b360f756d3",
   "metadata": {},
   "outputs": [
    {
     "data": {
      "text/plain": [
       "0"
      ]
     },
     "execution_count": 4,
     "metadata": {},
     "output_type": "execute_result"
    }
   ],
   "source": [
    "import gc\n",
    "gc.collect()"
   ]
  },
  {
   "cell_type": "code",
   "execution_count": 6,
   "id": "7fbba695-3cf6-44ac-bbe2-3d0d4bc45343",
   "metadata": {},
   "outputs": [],
   "source": [
    "%reset -f"
   ]
  },
  {
   "cell_type": "code",
   "execution_count": null,
   "id": "22fc20b1-f998-46c2-be2c-bdbfeb6771e2",
   "metadata": {},
   "outputs": [],
   "source": []
  },
  {
   "cell_type": "code",
   "execution_count": 9,
   "id": "2fe107f7",
   "metadata": {},
   "outputs": [],
   "source": [
    "import numpy as np\n",
    "import pandas as pd\n",
    "import os\n",
    "import matplotlib.pyplot as plt"
   ]
  },
  {
   "cell_type": "code",
   "execution_count": 11,
   "id": "74af7b7f-a27d-4630-9b1b-8269d16e9266",
   "metadata": {},
   "outputs": [],
   "source": [
    "# Set directory containing CSV files\n",
    "data_dir = r\"D:\\AIS & ML\\Dataset_Input _Final\\BlanketandSunscreen\"\n",
    "\n",
    "# Load all CSV files\n",
    "csv_files = [os.path.join(data_dir, f) for f in os.listdir(data_dir) if f.endswith('.csv')]\n",
    "dfs = [pd.read_csv(file, header=None) for file in csv_files]\n"
   ]
  },
  {
   "cell_type": "code",
   "execution_count": 12,
   "id": "7b9389f8-98eb-481b-9df4-0eeddee5cf63",
   "metadata": {},
   "outputs": [
    {
     "data": {
      "text/html": [
       "<div>\n",
       "<style scoped>\n",
       "    .dataframe tbody tr th:only-of-type {\n",
       "        vertical-align: middle;\n",
       "    }\n",
       "\n",
       "    .dataframe tbody tr th {\n",
       "        vertical-align: top;\n",
       "    }\n",
       "\n",
       "    .dataframe thead th {\n",
       "        text-align: right;\n",
       "    }\n",
       "</style>\n",
       "<table border=\"1\" class=\"dataframe\">\n",
       "  <thead>\n",
       "    <tr style=\"text-align: right;\">\n",
       "      <th></th>\n",
       "      <th>0</th>\n",
       "      <th>1</th>\n",
       "      <th>2</th>\n",
       "      <th>3</th>\n",
       "      <th>4</th>\n",
       "      <th>5</th>\n",
       "      <th>6</th>\n",
       "      <th>7</th>\n",
       "      <th>8</th>\n",
       "      <th>9</th>\n",
       "      <th>...</th>\n",
       "      <th>16390</th>\n",
       "      <th>16391</th>\n",
       "      <th>16392</th>\n",
       "      <th>16393</th>\n",
       "      <th>16394</th>\n",
       "      <th>16395</th>\n",
       "      <th>16396</th>\n",
       "      <th>16397</th>\n",
       "      <th>16398</th>\n",
       "      <th>16399</th>\n",
       "    </tr>\n",
       "  </thead>\n",
       "  <tbody>\n",
       "    <tr>\n",
       "      <th>0</th>\n",
       "      <td>64</td>\n",
       "      <td>32768</td>\n",
       "      <td>1</td>\n",
       "      <td>1</td>\n",
       "      <td>512</td>\n",
       "      <td>0</td>\n",
       "      <td>1953125</td>\n",
       "      <td>12</td>\n",
       "      <td>0.0</td>\n",
       "      <td>0</td>\n",
       "      <td>...</td>\n",
       "      <td>-7</td>\n",
       "      <td>-11</td>\n",
       "      <td>-11</td>\n",
       "      <td>-14</td>\n",
       "      <td>-15</td>\n",
       "      <td>-19</td>\n",
       "      <td>-21</td>\n",
       "      <td>-24</td>\n",
       "      <td>-23</td>\n",
       "      <td>-22</td>\n",
       "    </tr>\n",
       "    <tr>\n",
       "      <th>1</th>\n",
       "      <td>64</td>\n",
       "      <td>32768</td>\n",
       "      <td>1</td>\n",
       "      <td>1</td>\n",
       "      <td>512</td>\n",
       "      <td>0</td>\n",
       "      <td>1953125</td>\n",
       "      <td>12</td>\n",
       "      <td>0.0</td>\n",
       "      <td>0</td>\n",
       "      <td>...</td>\n",
       "      <td>45</td>\n",
       "      <td>47</td>\n",
       "      <td>44</td>\n",
       "      <td>43</td>\n",
       "      <td>41</td>\n",
       "      <td>38</td>\n",
       "      <td>37</td>\n",
       "      <td>35</td>\n",
       "      <td>31</td>\n",
       "      <td>29</td>\n",
       "    </tr>\n",
       "    <tr>\n",
       "      <th>2</th>\n",
       "      <td>64</td>\n",
       "      <td>32768</td>\n",
       "      <td>1</td>\n",
       "      <td>1</td>\n",
       "      <td>512</td>\n",
       "      <td>0</td>\n",
       "      <td>1953125</td>\n",
       "      <td>12</td>\n",
       "      <td>0.0</td>\n",
       "      <td>0</td>\n",
       "      <td>...</td>\n",
       "      <td>18</td>\n",
       "      <td>12</td>\n",
       "      <td>4</td>\n",
       "      <td>1</td>\n",
       "      <td>-5</td>\n",
       "      <td>-12</td>\n",
       "      <td>-17</td>\n",
       "      <td>-23</td>\n",
       "      <td>-26</td>\n",
       "      <td>-31</td>\n",
       "    </tr>\n",
       "    <tr>\n",
       "      <th>3</th>\n",
       "      <td>64</td>\n",
       "      <td>32768</td>\n",
       "      <td>1</td>\n",
       "      <td>1</td>\n",
       "      <td>512</td>\n",
       "      <td>0</td>\n",
       "      <td>1953125</td>\n",
       "      <td>12</td>\n",
       "      <td>0.0</td>\n",
       "      <td>0</td>\n",
       "      <td>...</td>\n",
       "      <td>-24</td>\n",
       "      <td>-31</td>\n",
       "      <td>-33</td>\n",
       "      <td>-28</td>\n",
       "      <td>-32</td>\n",
       "      <td>-36</td>\n",
       "      <td>-30</td>\n",
       "      <td>-26</td>\n",
       "      <td>-23</td>\n",
       "      <td>-20</td>\n",
       "    </tr>\n",
       "    <tr>\n",
       "      <th>4</th>\n",
       "      <td>64</td>\n",
       "      <td>32768</td>\n",
       "      <td>1</td>\n",
       "      <td>1</td>\n",
       "      <td>512</td>\n",
       "      <td>0</td>\n",
       "      <td>1953125</td>\n",
       "      <td>12</td>\n",
       "      <td>0.0</td>\n",
       "      <td>0</td>\n",
       "      <td>...</td>\n",
       "      <td>42</td>\n",
       "      <td>38</td>\n",
       "      <td>33</td>\n",
       "      <td>27</td>\n",
       "      <td>24</td>\n",
       "      <td>18</td>\n",
       "      <td>12</td>\n",
       "      <td>5</td>\n",
       "      <td>-2</td>\n",
       "      <td>-7</td>\n",
       "    </tr>\n",
       "    <tr>\n",
       "      <th>...</th>\n",
       "      <td>...</td>\n",
       "      <td>...</td>\n",
       "      <td>...</td>\n",
       "      <td>...</td>\n",
       "      <td>...</td>\n",
       "      <td>...</td>\n",
       "      <td>...</td>\n",
       "      <td>...</td>\n",
       "      <td>...</td>\n",
       "      <td>...</td>\n",
       "      <td>...</td>\n",
       "      <td>...</td>\n",
       "      <td>...</td>\n",
       "      <td>...</td>\n",
       "      <td>...</td>\n",
       "      <td>...</td>\n",
       "      <td>...</td>\n",
       "      <td>...</td>\n",
       "      <td>...</td>\n",
       "      <td>...</td>\n",
       "      <td>...</td>\n",
       "    </tr>\n",
       "    <tr>\n",
       "      <th>11995</th>\n",
       "      <td>64</td>\n",
       "      <td>32768</td>\n",
       "      <td>2</td>\n",
       "      <td>1</td>\n",
       "      <td>512</td>\n",
       "      <td>0</td>\n",
       "      <td>1953125</td>\n",
       "      <td>12</td>\n",
       "      <td>0.0</td>\n",
       "      <td>0</td>\n",
       "      <td>...</td>\n",
       "      <td>36</td>\n",
       "      <td>36</td>\n",
       "      <td>43</td>\n",
       "      <td>47</td>\n",
       "      <td>43</td>\n",
       "      <td>41</td>\n",
       "      <td>39</td>\n",
       "      <td>41</td>\n",
       "      <td>46</td>\n",
       "      <td>45</td>\n",
       "    </tr>\n",
       "    <tr>\n",
       "      <th>11996</th>\n",
       "      <td>64</td>\n",
       "      <td>32768</td>\n",
       "      <td>2</td>\n",
       "      <td>1</td>\n",
       "      <td>512</td>\n",
       "      <td>0</td>\n",
       "      <td>1953125</td>\n",
       "      <td>12</td>\n",
       "      <td>0.0</td>\n",
       "      <td>0</td>\n",
       "      <td>...</td>\n",
       "      <td>-13</td>\n",
       "      <td>-9</td>\n",
       "      <td>-13</td>\n",
       "      <td>-15</td>\n",
       "      <td>-21</td>\n",
       "      <td>-28</td>\n",
       "      <td>-27</td>\n",
       "      <td>-29</td>\n",
       "      <td>-32</td>\n",
       "      <td>-32</td>\n",
       "    </tr>\n",
       "    <tr>\n",
       "      <th>11997</th>\n",
       "      <td>64</td>\n",
       "      <td>32768</td>\n",
       "      <td>2</td>\n",
       "      <td>1</td>\n",
       "      <td>512</td>\n",
       "      <td>0</td>\n",
       "      <td>1953125</td>\n",
       "      <td>12</td>\n",
       "      <td>0.0</td>\n",
       "      <td>0</td>\n",
       "      <td>...</td>\n",
       "      <td>2</td>\n",
       "      <td>0</td>\n",
       "      <td>-1</td>\n",
       "      <td>-4</td>\n",
       "      <td>-10</td>\n",
       "      <td>-13</td>\n",
       "      <td>-16</td>\n",
       "      <td>-14</td>\n",
       "      <td>-16</td>\n",
       "      <td>-20</td>\n",
       "    </tr>\n",
       "    <tr>\n",
       "      <th>11998</th>\n",
       "      <td>64</td>\n",
       "      <td>32768</td>\n",
       "      <td>2</td>\n",
       "      <td>1</td>\n",
       "      <td>512</td>\n",
       "      <td>0</td>\n",
       "      <td>1953125</td>\n",
       "      <td>12</td>\n",
       "      <td>0.0</td>\n",
       "      <td>0</td>\n",
       "      <td>...</td>\n",
       "      <td>-24</td>\n",
       "      <td>-26</td>\n",
       "      <td>-29</td>\n",
       "      <td>-28</td>\n",
       "      <td>-31</td>\n",
       "      <td>-28</td>\n",
       "      <td>-25</td>\n",
       "      <td>-23</td>\n",
       "      <td>-21</td>\n",
       "      <td>-22</td>\n",
       "    </tr>\n",
       "    <tr>\n",
       "      <th>11999</th>\n",
       "      <td>64</td>\n",
       "      <td>32768</td>\n",
       "      <td>2</td>\n",
       "      <td>1</td>\n",
       "      <td>512</td>\n",
       "      <td>0</td>\n",
       "      <td>1953125</td>\n",
       "      <td>12</td>\n",
       "      <td>0.0</td>\n",
       "      <td>0</td>\n",
       "      <td>...</td>\n",
       "      <td>1</td>\n",
       "      <td>3</td>\n",
       "      <td>0</td>\n",
       "      <td>0</td>\n",
       "      <td>6</td>\n",
       "      <td>9</td>\n",
       "      <td>10</td>\n",
       "      <td>10</td>\n",
       "      <td>11</td>\n",
       "      <td>15</td>\n",
       "    </tr>\n",
       "  </tbody>\n",
       "</table>\n",
       "<p>12000 rows × 16400 columns</p>\n",
       "</div>"
      ],
      "text/plain": [
       "       0      1      2      3      4      5        6      7      8      9      \\\n",
       "0         64  32768      1      1    512      0  1953125     12    0.0      0   \n",
       "1         64  32768      1      1    512      0  1953125     12    0.0      0   \n",
       "2         64  32768      1      1    512      0  1953125     12    0.0      0   \n",
       "3         64  32768      1      1    512      0  1953125     12    0.0      0   \n",
       "4         64  32768      1      1    512      0  1953125     12    0.0      0   \n",
       "...      ...    ...    ...    ...    ...    ...      ...    ...    ...    ...   \n",
       "11995     64  32768      2      1    512      0  1953125     12    0.0      0   \n",
       "11996     64  32768      2      1    512      0  1953125     12    0.0      0   \n",
       "11997     64  32768      2      1    512      0  1953125     12    0.0      0   \n",
       "11998     64  32768      2      1    512      0  1953125     12    0.0      0   \n",
       "11999     64  32768      2      1    512      0  1953125     12    0.0      0   \n",
       "\n",
       "       ...  16390  16391  16392 16393  16394  16395  16396  16397  16398  \\\n",
       "0      ...     -7    -11    -11   -14    -15    -19    -21    -24    -23   \n",
       "1      ...     45     47     44    43     41     38     37     35     31   \n",
       "2      ...     18     12      4     1     -5    -12    -17    -23    -26   \n",
       "3      ...    -24    -31    -33   -28    -32    -36    -30    -26    -23   \n",
       "4      ...     42     38     33    27     24     18     12      5     -2   \n",
       "...    ...    ...    ...    ...   ...    ...    ...    ...    ...    ...   \n",
       "11995  ...     36     36     43    47     43     41     39     41     46   \n",
       "11996  ...    -13     -9    -13   -15    -21    -28    -27    -29    -32   \n",
       "11997  ...      2      0     -1    -4    -10    -13    -16    -14    -16   \n",
       "11998  ...    -24    -26    -29   -28    -31    -28    -25    -23    -21   \n",
       "11999  ...      1      3      0     0      6      9     10     10     11   \n",
       "\n",
       "       16399  \n",
       "0        -22  \n",
       "1         29  \n",
       "2        -31  \n",
       "3        -20  \n",
       "4         -7  \n",
       "...      ...  \n",
       "11995     45  \n",
       "11996    -32  \n",
       "11997    -20  \n",
       "11998    -22  \n",
       "11999     15  \n",
       "\n",
       "[12000 rows x 16400 columns]"
      ]
     },
     "execution_count": 12,
     "metadata": {},
     "output_type": "execute_result"
    }
   ],
   "source": [
    "# Combine all CSV data\n",
    "combined_df = pd.concat(dfs, ignore_index=True)\n",
    "combined_df"
   ]
  },
  {
   "cell_type": "code",
   "execution_count": 13,
   "id": "b2a1d489-3c06-4079-8df1-309d0c07f779",
   "metadata": {},
   "outputs": [
    {
     "data": {
      "text/plain": [
       "(12000, 16400)"
      ]
     },
     "execution_count": 13,
     "metadata": {},
     "output_type": "execute_result"
    }
   ],
   "source": [
    "combined_df.shape"
   ]
  },
  {
   "cell_type": "code",
   "execution_count": 14,
   "id": "a4787fa1-2389-410e-8635-29e601d986b4",
   "metadata": {},
   "outputs": [
    {
     "data": {
      "text/plain": [
       "array([[-17, -15, -16, ..., -24, -23, -22],\n",
       "       [ 23,  18,  15, ...,  35,  31,  29],\n",
       "       [-36, -36, -36, ..., -23, -26, -31],\n",
       "       ...,\n",
       "       [-25, -28, -27, ..., -14, -16, -20],\n",
       "       [-19, -13, -10, ..., -23, -21, -22],\n",
       "       [ 16,  17,  19, ...,  10,  11,  15]], shape=(12000, 16384))"
      ]
     },
     "execution_count": 14,
     "metadata": {},
     "output_type": "execute_result"
    }
   ],
   "source": [
    "adc_data = combined_df.iloc[:, 16:].values  # Extract ADC values (skip metadata columns)\n",
    "adc_data\n",
    "#print(f\"Loaded data shape: {adc_data.shape}\")  # Shape should be (num_samples, num_features)\n"
   ]
  },
  {
   "cell_type": "code",
   "execution_count": 15,
   "id": "ce1542b4-1438-43ea-a0eb-9aede56c29ca",
   "metadata": {},
   "outputs": [
    {
     "data": {
      "text/plain": [
       "array([[  13.73385735,   80.0425241 ,  144.86313318, ...,  -20.73283188,\n",
       "         -22.7905239 ,  -24.54550312],\n",
       "       [ -11.84136201,  -51.85449989,  -89.79837956, ...,   39.64747584,\n",
       "          39.34927001,   38.98669359],\n",
       "       [ -25.17426039,   43.61776215,  112.16749108, ...,  -16.68683837,\n",
       "         -20.24879657,  -23.40888734],\n",
       "       ...,\n",
       "       [ -43.94397597, -148.8206285 , -252.44928964, ...,  -13.97543577,\n",
       "         -15.82978038,  -17.45945793],\n",
       "       [ -61.35854111, -108.56342005, -153.14320243, ...,  -26.75273394,\n",
       "         -27.18317827,  -27.49666553],\n",
       "       [ -30.23614687,  -43.64107168,  -54.61037259, ...,    6.71189906,\n",
       "           7.20392253,    7.70635557]], shape=(12000, 16384))"
      ]
     },
     "execution_count": 15,
     "metadata": {},
     "output_type": "execute_result"
    }
   ],
   "source": [
    "from scipy.signal import butter, filtfilt\n",
    "\n",
    "def butter_lowpass_filter(signal, cutoff=30e3, fs=1e6, order=5):\n",
    "    nyquist = 0.5 * fs\n",
    "    normal_cutoff = cutoff / nyquist\n",
    "    b, a = butter(order, normal_cutoff, btype='low', analog=False)\n",
    "    return filtfilt(b, a, signal)\n",
    "\n",
    "filtered_data = np.array([butter_lowpass_filter(row) for row in adc_data])\n",
    "filtered_data"
   ]
  },
  {
   "cell_type": "code",
   "execution_count": 16,
   "id": "b5ddd741-b851-4fd8-bfbd-ef178c623b88",
   "metadata": {},
   "outputs": [
    {
     "name": "stdout",
     "output_type": "stream",
     "text": [
      "SNR After Fixing: 25.71 dB\n"
     ]
    }
   ],
   "source": [
    "def calculate_snr(signal, noise):\n",
    "    power_signal = np.mean(signal ** 2)\n",
    "    power_noise = np.mean(noise ** 2)\n",
    "    return 10 * np.log10(power_signal / power_noise)\n",
    "\n",
    "snr_after = calculate_snr(filtered_data, adc_data - filtered_data)\n",
    "print(f\"SNR After Fixing: {snr_after:.2f} dB\")"
   ]
  },
  {
   "cell_type": "code",
   "execution_count": null,
   "id": "5f2f6177-4e3a-4d2e-81fd-e27416ce7345",
   "metadata": {},
   "outputs": [],
   "source": []
  },
  {
   "cell_type": "code",
   "execution_count": 18,
   "id": "3afc8fc3",
   "metadata": {},
   "outputs": [
    {
     "data": {
      "text/plain": [
       "array([-2.30343651, 10.59912243, 19.56983599, ...,  4.66044386,\n",
       "        4.59995074, 55.54122041], shape=(12000,))"
      ]
     },
     "execution_count": 18,
     "metadata": {},
     "output_type": "execute_result"
    }
   ],
   "source": [
    "# Select from the 17th column to the end\n",
    "adc_data_selected_columns = filtered_data.mean(axis=1)  # Python uses 0-based indexing\n",
    "adc_data_selected_columns"
   ]
  },
  {
   "cell_type": "markdown",
   "id": "d09beabf",
   "metadata": {},
   "source": [
    "# ADC to FFT Conversion"
   ]
  },
  {
   "cell_type": "code",
   "execution_count": 38,
   "id": "a453a726-82fd-49c9-94e0-d4e3ecdbefa9",
   "metadata": {},
   "outputs": [
    {
     "data": {
      "text/html": [
       "<div>\n",
       "<style scoped>\n",
       "    .dataframe tbody tr th:only-of-type {\n",
       "        vertical-align: middle;\n",
       "    }\n",
       "\n",
       "    .dataframe tbody tr th {\n",
       "        vertical-align: top;\n",
       "    }\n",
       "\n",
       "    .dataframe thead th {\n",
       "        text-align: right;\n",
       "    }\n",
       "</style>\n",
       "<table border=\"1\" class=\"dataframe\">\n",
       "  <thead>\n",
       "    <tr style=\"text-align: right;\">\n",
       "      <th></th>\n",
       "      <th>Frequency</th>\n",
       "      <th>FFT Magnitude</th>\n",
       "      <th>Phase</th>\n",
       "    </tr>\n",
       "  </thead>\n",
       "  <tbody>\n",
       "    <tr>\n",
       "      <th>0</th>\n",
       "      <td>0.000000</td>\n",
       "      <td>46378.617052</td>\n",
       "      <td>0.000000</td>\n",
       "    </tr>\n",
       "    <tr>\n",
       "      <th>1</th>\n",
       "      <td>162.760417</td>\n",
       "      <td>22730.877556</td>\n",
       "      <td>-3.056708</td>\n",
       "    </tr>\n",
       "    <tr>\n",
       "      <th>2</th>\n",
       "      <td>325.520833</td>\n",
       "      <td>1213.847030</td>\n",
       "      <td>2.132477</td>\n",
       "    </tr>\n",
       "    <tr>\n",
       "      <th>3</th>\n",
       "      <td>488.281250</td>\n",
       "      <td>461.454602</td>\n",
       "      <td>2.500521</td>\n",
       "    </tr>\n",
       "    <tr>\n",
       "      <th>4</th>\n",
       "      <td>651.041667</td>\n",
       "      <td>788.183052</td>\n",
       "      <td>0.018248</td>\n",
       "    </tr>\n",
       "  </tbody>\n",
       "</table>\n",
       "</div>"
      ],
      "text/plain": [
       "    Frequency  FFT Magnitude     Phase\n",
       "0    0.000000   46378.617052  0.000000\n",
       "1  162.760417   22730.877556 -3.056708\n",
       "2  325.520833    1213.847030  2.132477\n",
       "3  488.281250     461.454602  2.500521\n",
       "4  651.041667     788.183052  0.018248"
      ]
     },
     "execution_count": 38,
     "metadata": {},
     "output_type": "execute_result"
    }
   ],
   "source": [
    "# Convert the pandas Series to a numpy array\n",
    "adc_array = adc_data_selected_columns \n",
    "\n",
    "# Choose a window function - Hanning window in this case\n",
    "window = np.hanning(len(adc_array))\n",
    "\n",
    "# Apply the window function to your data\n",
    "windowed_adc_data = adc_array * window\n",
    "\n",
    "# Perform FFT on the windowed data\n",
    "fft_result = np.fft.fft(windowed_adc_data)\n",
    "\n",
    "# Frequency bins (assuming you know the sampling rate)\n",
    "sampling_rate = 1953125  # Example: 1000 Hz, replace with your actual sampling rate\n",
    "min_freq = 35000  # 35 kHz\n",
    "max_freq = 45000  # 45 kHz\n",
    "\n",
    "n = len(adc_array)\n",
    "freq = np.fft.fftfreq(n, d=1/sampling_rate)\n",
    "# Calculate the magnitude and phase of the FFT result\n",
    "magnitude = np.abs(fft_result)\n",
    "phase = np.angle(fft_result)\n",
    "\n",
    "# Create a DataFrame\n",
    "fft_df = pd.DataFrame({\n",
    "    'Frequency': freq,\n",
    "    'FFT Magnitude': magnitude,\n",
    "    'Phase': phase\n",
    "})\n",
    "\n",
    "\n",
    "fft_df.head()  # Display the first few rows of the DataFrame"
   ]
  },
  {
   "cell_type": "code",
   "execution_count": 40,
   "id": "7e161398",
   "metadata": {},
   "outputs": [
    {
     "data": {
      "text/html": [
       "<div>\n",
       "<style scoped>\n",
       "    .dataframe tbody tr th:only-of-type {\n",
       "        vertical-align: middle;\n",
       "    }\n",
       "\n",
       "    .dataframe tbody tr th {\n",
       "        vertical-align: top;\n",
       "    }\n",
       "\n",
       "    .dataframe thead th {\n",
       "        text-align: right;\n",
       "    }\n",
       "</style>\n",
       "<table border=\"1\" class=\"dataframe\">\n",
       "  <thead>\n",
       "    <tr style=\"text-align: right;\">\n",
       "      <th></th>\n",
       "      <th>Frequency</th>\n",
       "      <th>FFT Magnitude</th>\n",
       "      <th>Phase</th>\n",
       "      <th>Infant_Presence</th>\n",
       "    </tr>\n",
       "  </thead>\n",
       "  <tbody>\n",
       "    <tr>\n",
       "      <th>0</th>\n",
       "      <td>0.000000</td>\n",
       "      <td>46378.617052</td>\n",
       "      <td>0.000000</td>\n",
       "      <td>1</td>\n",
       "    </tr>\n",
       "    <tr>\n",
       "      <th>1</th>\n",
       "      <td>162.760417</td>\n",
       "      <td>22730.877556</td>\n",
       "      <td>-3.056708</td>\n",
       "      <td>1</td>\n",
       "    </tr>\n",
       "    <tr>\n",
       "      <th>2</th>\n",
       "      <td>325.520833</td>\n",
       "      <td>1213.847030</td>\n",
       "      <td>2.132477</td>\n",
       "      <td>1</td>\n",
       "    </tr>\n",
       "    <tr>\n",
       "      <th>3</th>\n",
       "      <td>488.281250</td>\n",
       "      <td>461.454602</td>\n",
       "      <td>2.500521</td>\n",
       "      <td>1</td>\n",
       "    </tr>\n",
       "    <tr>\n",
       "      <th>4</th>\n",
       "      <td>651.041667</td>\n",
       "      <td>788.183052</td>\n",
       "      <td>0.018248</td>\n",
       "      <td>1</td>\n",
       "    </tr>\n",
       "  </tbody>\n",
       "</table>\n",
       "</div>"
      ],
      "text/plain": [
       "    Frequency  FFT Magnitude     Phase  Infant_Presence\n",
       "0    0.000000   46378.617052  0.000000                1\n",
       "1  162.760417   22730.877556 -3.056708                1\n",
       "2  325.520833    1213.847030  2.132477                1\n",
       "3  488.281250     461.454602  2.500521                1\n",
       "4  651.041667     788.183052  0.018248                1"
      ]
     },
     "execution_count": 40,
     "metadata": {},
     "output_type": "execute_result"
    }
   ],
   "source": [
    "# Add a new column to the fft_magnitude DataFrame for the binary label\n",
    "# Set the value to 1 for presence of an infant with a carriage\n",
    "fft_df['Infant_Presence'] = 1 # 1 for presence, 0 for absence (if you have such data)\n",
    "\n",
    "# Display the first few rows to verify the new column\n",
    "fft_df.head()"
   ]
  },
  {
   "cell_type": "code",
   "execution_count": 42,
   "id": "2377bc1c",
   "metadata": {},
   "outputs": [
    {
     "data": {
      "text/plain": [
       "12000"
      ]
     },
     "execution_count": 42,
     "metadata": {},
     "output_type": "execute_result"
    }
   ],
   "source": [
    "len(fft_df)"
   ]
  },
  {
   "cell_type": "code",
   "execution_count": 44,
   "id": "155ea4ec",
   "metadata": {},
   "outputs": [
    {
     "data": {
      "text/html": [
       "<div>\n",
       "<style scoped>\n",
       "    .dataframe tbody tr th:only-of-type {\n",
       "        vertical-align: middle;\n",
       "    }\n",
       "\n",
       "    .dataframe tbody tr th {\n",
       "        vertical-align: top;\n",
       "    }\n",
       "\n",
       "    .dataframe thead th {\n",
       "        text-align: right;\n",
       "    }\n",
       "</style>\n",
       "<table border=\"1\" class=\"dataframe\">\n",
       "  <thead>\n",
       "    <tr style=\"text-align: right;\">\n",
       "      <th></th>\n",
       "      <th>Frequency</th>\n",
       "      <th>FFT Magnitude</th>\n",
       "      <th>Phase</th>\n",
       "      <th>Infant_Presence</th>\n",
       "    </tr>\n",
       "  </thead>\n",
       "  <tbody>\n",
       "    <tr>\n",
       "      <th>0</th>\n",
       "      <td>0.000000</td>\n",
       "      <td>46378.617052</td>\n",
       "      <td>0.000000</td>\n",
       "      <td>1</td>\n",
       "    </tr>\n",
       "    <tr>\n",
       "      <th>1</th>\n",
       "      <td>162.760417</td>\n",
       "      <td>22730.877556</td>\n",
       "      <td>-3.056708</td>\n",
       "      <td>1</td>\n",
       "    </tr>\n",
       "    <tr>\n",
       "      <th>2</th>\n",
       "      <td>325.520833</td>\n",
       "      <td>1213.847030</td>\n",
       "      <td>2.132477</td>\n",
       "      <td>1</td>\n",
       "    </tr>\n",
       "    <tr>\n",
       "      <th>3</th>\n",
       "      <td>488.281250</td>\n",
       "      <td>461.454602</td>\n",
       "      <td>2.500521</td>\n",
       "      <td>1</td>\n",
       "    </tr>\n",
       "    <tr>\n",
       "      <th>4</th>\n",
       "      <td>651.041667</td>\n",
       "      <td>788.183052</td>\n",
       "      <td>0.018248</td>\n",
       "      <td>1</td>\n",
       "    </tr>\n",
       "    <tr>\n",
       "      <th>...</th>\n",
       "      <td>...</td>\n",
       "      <td>...</td>\n",
       "      <td>...</td>\n",
       "      <td>...</td>\n",
       "    </tr>\n",
       "    <tr>\n",
       "      <th>11995</th>\n",
       "      <td>-813.802083</td>\n",
       "      <td>708.186621</td>\n",
       "      <td>1.826979</td>\n",
       "      <td>1</td>\n",
       "    </tr>\n",
       "    <tr>\n",
       "      <th>11996</th>\n",
       "      <td>-651.041667</td>\n",
       "      <td>788.183052</td>\n",
       "      <td>-0.018248</td>\n",
       "      <td>1</td>\n",
       "    </tr>\n",
       "    <tr>\n",
       "      <th>11997</th>\n",
       "      <td>-488.281250</td>\n",
       "      <td>461.454602</td>\n",
       "      <td>-2.500521</td>\n",
       "      <td>1</td>\n",
       "    </tr>\n",
       "    <tr>\n",
       "      <th>11998</th>\n",
       "      <td>-325.520833</td>\n",
       "      <td>1213.847030</td>\n",
       "      <td>-2.132477</td>\n",
       "      <td>1</td>\n",
       "    </tr>\n",
       "    <tr>\n",
       "      <th>11999</th>\n",
       "      <td>-162.760417</td>\n",
       "      <td>22730.877556</td>\n",
       "      <td>3.056708</td>\n",
       "      <td>1</td>\n",
       "    </tr>\n",
       "  </tbody>\n",
       "</table>\n",
       "<p>12000 rows × 4 columns</p>\n",
       "</div>"
      ],
      "text/plain": [
       "        Frequency  FFT Magnitude     Phase  Infant_Presence\n",
       "0        0.000000   46378.617052  0.000000                1\n",
       "1      162.760417   22730.877556 -3.056708                1\n",
       "2      325.520833    1213.847030  2.132477                1\n",
       "3      488.281250     461.454602  2.500521                1\n",
       "4      651.041667     788.183052  0.018248                1\n",
       "...           ...            ...       ...              ...\n",
       "11995 -813.802083     708.186621  1.826979                1\n",
       "11996 -651.041667     788.183052 -0.018248                1\n",
       "11997 -488.281250     461.454602 -2.500521                1\n",
       "11998 -325.520833    1213.847030 -2.132477                1\n",
       "11999 -162.760417   22730.877556  3.056708                1\n",
       "\n",
       "[12000 rows x 4 columns]"
      ]
     },
     "execution_count": 44,
     "metadata": {},
     "output_type": "execute_result"
    }
   ],
   "source": [
    "fft_df"
   ]
  },
  {
   "cell_type": "code",
   "execution_count": 47,
   "id": "4d6d2c1c",
   "metadata": {},
   "outputs": [
    {
     "data": {
      "image/png": "[encoded data removed]",
      "text/plain": [
       "<Figure size 1000x600 with 1 Axes>"
      ]
     },
     "metadata": {},
     "output_type": "display_data"
    }
   ],
   "source": [
    "plt.figure(figsize=(10, 6))  # Set the figure size for better readability\n",
    "plt.plot(fft_df['Frequency'], fft_df['FFT Magnitude'])  # Plot positive frequency vs magnitude\n",
    "plt.title('Magnitude Spectrum')  # Title of the plot\n",
    "plt.xlabel('Frequency (Hz)')  # Label for the x-axis\n",
    "plt.ylabel('Magnitude')  # Label for the y-axis\n",
    "plt.grid(True)  # Show grid for better readability\n",
    "plt.show()  # Display the plot"
   ]
  },
  {
   "cell_type": "markdown",
   "id": "11ad87f4",
   "metadata": {},
   "source": [
    "# Saving to numpy array"
   ]
  },
  {
   "cell_type": "code",
   "execution_count": 49,
   "id": "4d9f02df",
   "metadata": {},
   "outputs": [],
   "source": [
    "numpy_array = fft_df.to_numpy()\n",
    "# Save the array to a file\n",
    "np.save('BabyCovered_with_Blanket_or_Sunscreen_npy_array_Lowpassfiltered_label.npy', numpy_array)"
   ]
  },
  {
   "cell_type": "code",
   "execution_count": 55,
   "id": "a0b07407",
   "metadata": {},
   "outputs": [
    {
     "data": {
      "text/plain": [
       "0"
      ]
     },
     "execution_count": 55,
     "metadata": {},
     "output_type": "execute_result"
    }
   ],
   "source": [
    "import gc\n",
    "gc.collect()"
   ]
  },
  {
   "cell_type": "code",
   "execution_count": 53,
   "id": "b45e7143-f8e9-4564-ab26-704a990f1b1f",
   "metadata": {},
   "outputs": [],
   "source": [
    "%reset -f"
   ]
  },
  {
   "cell_type": "code",
   "execution_count": null,
   "id": "b1fddc1a-e564-4a1d-899f-9cf3f258d6a6",
   "metadata": {},
   "outputs": [],
   "source": []
  },
  {
   "cell_type": "code",
   "execution_count": null,
   "id": "317672c6-1faf-48b2-ad36-9a54fb345a69",
   "metadata": {},
   "outputs": [],
   "source": []
  },
  {
   "cell_type": "code",
   "execution_count": null,
   "id": "1c39296e-786e-4a71-b851-489ff8976f95",
   "metadata": {},
   "outputs": [],
   "source": []
  }
 ],
 "metadata": {
  "kernelspec": {
   "display_name": "Python 3 (ipykernel)",
   "language": "python",
   "name": "python3"
  },
  "language_info": {
   "codemirror_mode": {
    "name": "ipython",
    "version": 3
   },
   "file_extension": ".py",
   "mimetype": "text/x-python",
   "name": "python",
   "nbconvert_exporter": "python",
   "pygments_lexer": "ipython3",
   "version": "3.12.7"
  }
 },
 "nbformat": 4,
 "nbformat_minor": 5
}
